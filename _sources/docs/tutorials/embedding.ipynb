{
 "cells": [
  {
   "cell_type": "markdown",
   "id": "c831c5f3",
   "metadata": {},
   "source": [
    "# Embedding"
   ]
  },
  {
   "cell_type": "markdown",
   "id": "fdfa154b",
   "metadata": {},
   "source": [
    "There are several ways to export and view Evince outside the Jupyter environemt. Here we show three standard methods."
   ]
  },
  {
   "cell_type": "markdown",
   "id": "078c4d1a",
   "metadata": {},
   "source": [
    "## The Widget dropdown menu in Jupyter Notebooks\n",
    "\n",
    "Run the cell below and press \"Widgets>Embed Widgets\" in the dropdown-menu above. This will display a string which may be copy-pasted into your html-file, adding your view to it."
   ]
  },
  {
   "cell_type": "code",
   "execution_count": 3,
   "id": "d5352ba9",
   "metadata": {},
   "outputs": [
    {
     "data": {
      "application/vnd.jupyter.widget-view+json": {
       "model_id": "dad80dc3d48048da87780cd815991f43",
       "version_major": 2,
       "version_minor": 0
      },
      "text/plain": [
       "BraketView(additive=False, ao=[1], bg_color=[1.0, 1.0, 1.0], fragment_shader='uniform vec3 user_color;\\nunifor…"
      ]
     },
     "execution_count": 3,
     "metadata": {},
     "output_type": "execute_result"
    }
   ],
   "source": [
    "import braketlab as bk\n",
    "\n",
    "m = bk.basisbank.get_harmonic_oscillator_function(10).view(web = True)\n",
    "m"
   ]
  },
  {
   "cell_type": "markdown",
   "id": "ffee36ca",
   "metadata": {},
   "source": [
    "## Automation with IPywidgets\n",
    "\n",
    "Another option for embedding is to automatically generate the embedding script above using the ```embed_minimal_html```-function:"
   ]
  },
  {
   "cell_type": "code",
   "execution_count": 4,
   "id": "800bb611",
   "metadata": {},
   "outputs": [],
   "source": [
    "from ipywidgets.embed import embed_minimal_html\n",
    "\n",
    "embed_minimal_html(\"my_export.html\", [m]) # export the widget to a html-file"
   ]
  },
  {
   "cell_type": "markdown",
   "id": "02391c27",
   "metadata": {},
   "source": [
    "## NBConvert\n",
    "\n",
    "Finally, the NBConverter is a convenient way to turn you notebooks into static html. \n",
    "\n",
    "First, run you notebook and press \"Widgetst>Save notebook widget state\". Then, from the command line, run"
   ]
  },
  {
   "cell_type": "markdown",
   "id": "75b8cd7f",
   "metadata": {},
   "source": [
    "```>nbconvert filename --to html```"
   ]
  },
  {
   "cell_type": "markdown",
   "id": "bbd22f12",
   "metadata": {},
   "source": [
    "The widget will be now automatically included in the output html-file."
   ]
  },
  {
   "cell_type": "code",
   "execution_count": null,
   "id": "82f6b008",
   "metadata": {},
   "outputs": [],
   "source": []
  }
 ],
 "metadata": {
  "kernelspec": {
   "display_name": "Python 3 (ipykernel)",
   "language": "python",
   "name": "python3"
  },
  "language_info": {
   "codemirror_mode": {
    "name": "ipython",
    "version": 3
   },
   "file_extension": ".py",
   "mimetype": "text/x-python",
   "name": "python",
   "nbconvert_exporter": "python",
   "pygments_lexer": "ipython3",
   "version": "3.10.6"
  },
  "widgets": {
   "application/vnd.jupyter.widget-state+json": {
    "state": {
     "07e6560314424cdb8d94f9912f0be54a": {
      "model_module": "@jupyter-widgets/base",
      "model_module_version": "2.0.0",
      "model_name": "LayoutModel",
      "state": {
       "_model_module_version": "2.0.0",
       "_view_module_version": "2.0.0",
       "border_bottom": null,
       "border_left": null,
       "border_right": null,
       "border_top": null
      }
     },
     "2fc5d23fefa14b29a5dacd7c139bdea6": {
      "model_module": "evince",
      "model_module_version": "^0.33.0",
      "model_name": "BraketModel",
      "state": {
       "_model_module_version": "^0.33.0",
       "_view_module_version": "^0.33.0",
       "additive": true,
       "ao": [
        1
       ],
       "bg_color": [
        0,
        0,
        0
       ],
       "fragment_shader": "uniform vec3 user_color;\nuniform float time;\n\nvarying vec2 vUv;\nvarying vec3 pos;\nvarying vec3 tex;\nvarying float q;\nvarying float csI;\nvarying float csR;\nvarying float cs0;\nvarying float cs;\n\nvoid main() {\n\n    vec2 p = vUv;\n    float q = tex[0]*tex[0] ;\n    float cs0 = (3.7261713638291734*q - 4.9682284851055645*pow(q, 2.0) + 1.9872913940422259*pow(q, 3.0) - 0.28389877057746082*pow(q, 4.0) + 0.012617723136776038*pow(q, 5.0) - 0.37261713638291738)*exp(-1.0/2.0*q);\n    float csI = -1.0*cs0*sin(10.500000*time) ;\n    float csR = cs0*cos(10.500000*time) ;\n    csR = smoothstep(0.9*tex[1], tex[1], csR);\n    csI = smoothstep(0.9*tex[1], tex[1], csI);\n    gl_FragColor = gl_FragColor + vec4(csR, csI, -1.0*csR, 1);\n}",
       "layout": "IPY_MODEL_f56a2de6c6ee4f99ba8ccd4918e1cfb4",
       "pos": [],
       "surf": [],
       "surface_view": true,
       "tabbable": null,
       "tooltip": null
      }
     },
     "cf5e7e1ffc3848aea81fc3ccd34d924a": {
      "model_module": "evince",
      "model_module_version": "^0.33.0",
      "model_name": "BraketModel",
      "state": {
       "_model_module_version": "^0.33.0",
       "_view_module_version": "^0.33.0",
       "additive": false,
       "ao": [
        1
       ],
       "bg_color": [
        1,
        1,
        1
       ],
       "fragment_shader": "uniform vec3 user_color;\nuniform float time;\n\nvarying vec2 vUv;\nvarying vec3 pos;\nvarying vec3 tex;\nvarying float q;\nvarying float csI;\nvarying float csR;\nvarying float cs0;\nvarying float cs;\n\nvoid main() {\n\n    vec2 p = vUv;\n    float q = tex[0]*tex[0] ;\n    float cs0 = (3.7261713638291734*q - 4.9682284851055645*pow(q, 2.0) + 1.9872913940422259*pow(q, 3.0) - 0.28389877057746082*pow(q, 4.0) + 0.012617723136776038*pow(q, 5.0) - 0.37261713638291738)*exp(-1.0/2.0*q);\n    float csI = -1.0*cs0*sin(10.500000*time) ;\n    float csR = cs0*cos(10.500000*time) ;\n    csR = smoothstep(0.9*tex[1], tex[1], csR);\n    csI = smoothstep(0.9*tex[1], tex[1], csI);\n    gl_FragColor = gl_FragColor + vec4(csR + .06*csI, csR + .1*csI, .7*csR + .5*csI, 1.0);\n}",
       "layout": "IPY_MODEL_d15f73b785a04ccaae8cfff2d4bed825",
       "pos": [],
       "surf": [],
       "surface_view": true,
       "tabbable": null,
       "tooltip": null
      }
     },
     "d15f73b785a04ccaae8cfff2d4bed825": {
      "model_module": "@jupyter-widgets/base",
      "model_module_version": "2.0.0",
      "model_name": "LayoutModel",
      "state": {
       "_model_module_version": "2.0.0",
       "_view_module_version": "2.0.0",
       "border_bottom": null,
       "border_left": null,
       "border_right": null,
       "border_top": null
      }
     },
     "dad80dc3d48048da87780cd815991f43": {
      "model_module": "evince",
      "model_module_version": "^0.33.0",
      "model_name": "BraketModel",
      "state": {
       "_model_module_version": "^0.33.0",
       "_view_module_version": "^0.33.0",
       "additive": false,
       "ao": [
        1
       ],
       "bg_color": [
        1,
        1,
        1
       ],
       "fragment_shader": "uniform vec3 user_color;\nuniform float time;\n\nvarying vec2 vUv;\nvarying vec3 pos;\nvarying vec3 tex;\nvarying float q;\nvarying float csI;\nvarying float csR;\nvarying float cs0;\nvarying float cs;\n\nvoid main() {\n\n    vec2 p = vUv;\n    float q = tex[0]*tex[0] ;\n    float cs0 = (3.7261713638291734*q - 4.9682284851055645*pow(q, 2.0) + 1.9872913940422259*pow(q, 3.0) - 0.28389877057746082*pow(q, 4.0) + 0.012617723136776038*pow(q, 5.0) - 0.37261713638291738)*exp(-1.0/2.0*q);\n    float csI = -1.0*cs0*sin(10.500000*time) ;\n    float csR = cs0*cos(10.500000*time) ;\n    csR = smoothstep(0.9*tex[1], tex[1], csR);\n    csI = smoothstep(0.9*tex[1], tex[1], csI);\n    gl_FragColor = gl_FragColor + vec4(csR + .06*csI, csR + .1*csI, .7*csR + .5*csI, 1.0);\n}",
       "layout": "IPY_MODEL_07e6560314424cdb8d94f9912f0be54a",
       "pos": [],
       "surf": [],
       "surface_view": true,
       "tabbable": null,
       "tooltip": null
      }
     },
     "f56a2de6c6ee4f99ba8ccd4918e1cfb4": {
      "model_module": "@jupyter-widgets/base",
      "model_module_version": "2.0.0",
      "model_name": "LayoutModel",
      "state": {
       "_model_module_version": "2.0.0",
       "_view_module_version": "2.0.0",
       "border_bottom": null,
       "border_left": null,
       "border_right": null,
       "border_top": null
      }
     }
    },
    "version_major": 2,
    "version_minor": 0
   }
  }
 },
 "nbformat": 4,
 "nbformat_minor": 5
}
