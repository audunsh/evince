{
 "cells": [
  {
   "cell_type": "markdown",
   "id": "55b334d5",
   "metadata": {},
   "source": [
    "# Hybrid orbitals \n",
    "\n",
    "<b>Author</b> Audun Skau Hansen <a href=\"mailto:a.s.hansen@kjemi.uio.no\">✉️</a> \n",
    "\n",
    "The Hylleraas Centre for Quantum Molecular Sciences, 2022\n",
    "\n",
    "---"
   ]
  },
  {
   "cell_type": "code",
   "execution_count": 2,
   "id": "0dabe612",
   "metadata": {},
   "outputs": [
    {
     "data": {
      "application/vnd.jupyter.widget-view+json": {
       "model_id": "4953a32481e64576af01699fc9ace620",
       "version_major": 2,
       "version_minor": 0
      },
      "text/plain": [
       "BraketView(ao=[1], bg_color=[0.0, 0.0, 0.0], fragment_shader='uniform vec3 user_color;\\nuniform float time;\\n\\…"
      ]
     },
     "execution_count": 2,
     "metadata": {},
     "output_type": "execute_result"
    }
   ],
   "source": [
    "import braketlab as bk\n",
    "import numpy as np\n",
    "\n",
    "a = 5.0\n",
    " \n",
    "pos = np.array([-5.0,0.0, 0.0])\n",
    " \n",
    "s1 = bk.basisbank.get_gto(a, 0,0, position = pos)\n",
    "p1 = bk.basisbank.get_gto(a, 1,-1, position = pos)\n",
    "p2 = bk.basisbank.get_gto(a, 1, 0, position = pos)\n",
    "p3 = bk.basisbank.get_gto(a, 1, 1, position = pos)\n",
    " \n",
    "SP1 = (s1 + p1 + p2 + p3)\n",
    " \n",
    "pos = np.array([-2.5,0.0, 0.0])\n",
    " \n",
    "s1 = bk.basisbank.get_gto(a, 0,0, position = pos)\n",
    "p1 = bk.basisbank.get_gto(a, 1,-1, position = pos)\n",
    "p2 = bk.basisbank.get_gto(a, 1, 0, position = pos)\n",
    "p3 = bk.basisbank.get_gto(a, 1, 1, position = pos)\n",
    " \n",
    "SP2 = (s1 - p1 + p2 - p3)\n",
    " \n",
    "pos = np.array([0.0,0.0, 0.0])\n",
    " \n",
    "s1 = bk.basisbank.get_gto(a, 0,0, position = pos)\n",
    "p1 = bk.basisbank.get_gto(a, 1,-1, position = pos)\n",
    "p2 = bk.basisbank.get_gto(a, 1, 0, position = pos)\n",
    "p3 = bk.basisbank.get_gto(a, 1, 1, position = pos)\n",
    " \n",
    "SP3 = (s1 + p1 - p2 - p3)\n",
    " \n",
    "pos = np.array([2.5,0.0, 0.0])\n",
    " \n",
    "s1 = bk.basisbank.get_gto(a, 0,0, position = pos)\n",
    "p1 = bk.basisbank.get_gto(a, 1,-1, position = pos)\n",
    "p2 = bk.basisbank.get_gto(a, 1, 0, position = pos)\n",
    "p3 = bk.basisbank.get_gto(a, 1, 1, position = pos)\n",
    " \n",
    "SP4 = (s1 - p1 - p2 + p3)\n",
    " \n",
    " \n",
    "(SP1 + SP2 + SP3 + SP4).view()\n",
    " "
   ]
  },
  {
   "cell_type": "code",
   "execution_count": null,
   "id": "b71cc2d1",
   "metadata": {},
   "outputs": [],
   "source": []
  }
 ],
 "metadata": {
  "kernelspec": {
   "display_name": "Python 3 (ipykernel)",
   "language": "python",
   "name": "python3"
  },
  "language_info": {
   "codemirror_mode": {
    "name": "ipython",
    "version": 3
   },
   "file_extension": ".py",
   "mimetype": "text/x-python",
   "name": "python",
   "nbconvert_exporter": "python",
   "pygments_lexer": "ipython3",
   "version": "3.10.6"
  },
  "widgets": {
   "application/vnd.jupyter.widget-state+json": {
    "state": {
     "104d2cb6b08844fe9d3ee853db876b06": {
      "model_module": "evince",
      "model_module_version": "^0.24.0",
      "model_name": "BraketModel",
      "state": {
       "_model_module_version": "^0.24.0",
       "_view_module_version": "^0.24.0",
       "ao": [
        1
       ],
       "fragment_shader": "uniform vec3 user_color;\nuniform float time;\n\nvarying vec2 vUv;\nvarying vec3 pos;\nvarying vec3 tex;\nvarying float q;\nvarying float csI;\nvarying float csR;\nvarying float cs0;\nvarying float cs1;\nvarying float cs2;\nvarying float cs3;\nvarying float cs4;\nvarying float cs5;\nvarying float cs6;\nvarying float cs7;\nvarying float cs8;\nvarying float cs9;\nvarying float cs10;\nvarying float cs11;\nvarying float cs12;\nvarying float cs13;\nvarying float cs14;\nvarying float cs15;\nvarying float cs;\n\nvoid main() {\n\n    vec2 p = vUv;\n    float q = tex[0]*tex[0] +tex[1]*tex[1] +tex[2]*tex[2] ;\n    float cs0 = 2.3830743680178026*exp(-5.0*pow(tex[1], 2.0) - 5.0*pow(tex[2], 2.0) - 125.0*pow(0.20000000000000001*tex[0] + 1.0, 2.0));\n    float cs1 = 10.657432564650314*tex[1]*exp(-5.0*pow(tex[1], 2.0) - 5.0*pow(tex[2], 2.0) - 125.0*pow(0.20000000000000001*tex[0] + 1.0, 2.0));\n    float cs2 = 10.657432564650314*tex[2]*exp(-5.0*pow(tex[1], 2.0) - 5.0*pow(tex[2], 2.0) - 125.0*pow(0.20000000000000001*tex[0] + 1.0, 2.0));\n    float cs3 = (10.657432564650314*tex[0] + 53.28716282325157)*exp(-5.0*pow(tex[1], 2.0) - 5.0*pow(tex[2], 2.0) - 125.0*pow(0.20000000000000001*tex[0] + 1.0, 2.0));\n    float cs4 = 2.3830743680178026*exp(-5.0*pow(tex[1], 2.0) - 5.0*pow(tex[2], 2.0) - 31.25*pow(0.40000000000000002*tex[0] + 1.0, 2.0));\n    float cs5 = -10.657432564650314*tex[1]*exp(-5.0*pow(tex[1], 2.0) - 5.0*pow(tex[2], 2.0) - 31.25*pow(0.40000000000000002*tex[0] + 1.0, 2.0));\n    float cs6 = 10.657432564650314*tex[2]*exp(-5.0*pow(tex[1], 2.0) - 5.0*pow(tex[2], 2.0) - 31.25*pow(0.40000000000000002*tex[0] + 1.0, 2.0));\n    float cs7 = (-10.657432564650314*tex[0] - 26.643581411625785)*exp(-5.0*pow(tex[1], 2.0) - 5.0*pow(tex[2], 2.0) - 31.25*pow(0.40000000000000002*tex[0] + 1.0, 2.0));\n    float cs8 = 2.3830743680178026*exp(-5.0*q);\n    float cs9 = 10.657432564650314*tex[1]*exp(-5.0*q);\n    float cs10 = -10.657432564650314*tex[2]*exp(-5.0*q);\n    float cs11 = -10.657432564650314*tex[0]*exp(-5.0*q);\n    float cs12 = 2.3830743680178026*exp(-5.0*pow(tex[1], 2.0) - 5.0*pow(tex[2], 2.0) - 31.25*pow(0.40000000000000002*tex[0] - 1.0, 2.0));\n    float cs13 = -10.657432564650314*tex[1]*exp(-5.0*pow(tex[1], 2.0) - 5.0*pow(tex[2], 2.0) - 31.25*pow(0.40000000000000002*tex[0] - 1.0, 2.0));\n    float cs14 = -10.657432564650314*tex[2]*exp(-5.0*pow(tex[1], 2.0) - 5.0*pow(tex[2], 2.0) - 31.25*pow(0.40000000000000002*tex[0] - 1.0, 2.0));\n    float cs15 = (10.657432564650314*tex[0] - 26.643581411625785)*exp(-5.0*pow(tex[1], 2.0) - 5.0*pow(tex[2], 2.0) - 31.25*pow(0.40000000000000002*tex[0] - 1.0, 2.0));\n    float csI = 0.0 ;\n    float csR = cs0 + cs1 + cs2 + cs3 + cs4 + cs5 + cs6 + cs7 + cs8 + cs9 + cs10 + cs11 + cs12 + cs13 + cs14 + cs15 ;\n    gl_FragColor = gl_FragColor + vec4(csR, csI, -1.0*csR, .1);\n}",
       "layout": "IPY_MODEL_74643b94fc614f3bbef3c6357e66ce1e",
       "pos": [],
       "surf": []
      }
     },
     "3556abd97ce0407b8dfb92cb3211750d": {
      "model_module": "@jupyter-widgets/base",
      "model_module_version": "2.0.0",
      "model_name": "LayoutModel",
      "state": {
       "_model_module_version": "2.0.0",
       "_view_module_version": "2.0.0",
       "border_bottom": null,
       "border_left": null,
       "border_right": null,
       "border_top": null
      }
     },
     "4953a32481e64576af01699fc9ace620": {
      "model_module": "evince",
      "model_module_version": "^0.33.0",
      "model_name": "BraketModel",
      "state": {
       "_model_module_version": "^0.33.0",
       "_view_module_version": "^0.33.0",
       "additive": true,
       "ao": [
        1
       ],
       "bg_color": [
        0,
        0,
        0
       ],
       "fragment_shader": "uniform vec3 user_color;\nuniform float time;\n\nvarying vec2 vUv;\nvarying vec3 pos;\nvarying vec3 tex;\nvarying float q;\nvarying float csI;\nvarying float csR;\nvarying float cs0;\nvarying float cs1;\nvarying float cs2;\nvarying float cs3;\nvarying float cs4;\nvarying float cs5;\nvarying float cs6;\nvarying float cs7;\nvarying float cs8;\nvarying float cs9;\nvarying float cs10;\nvarying float cs11;\nvarying float cs12;\nvarying float cs13;\nvarying float cs14;\nvarying float cs15;\nvarying float cs;\n\nvoid main() {\n\n    vec2 p = vUv;\n    float q = tex[0]*tex[0] +tex[1]*tex[1] +tex[2]*tex[2] ;\n    float cs0 = 2.3830743680178026*exp(-5.0*pow(tex[1], 2.0) - 5.0*pow(tex[2], 2.0) - 125.0*pow(0.20000000000000001*tex[0] + 1.0, 2.0));\n    float cs1 = 10.657432564650314*tex[1]*exp(-5.0*pow(tex[1], 2.0) - 5.0*pow(tex[2], 2.0) - 125.0*pow(0.20000000000000001*tex[0] + 1.0, 2.0));\n    float cs2 = 10.657432564650314*tex[2]*exp(-5.0*pow(tex[1], 2.0) - 5.0*pow(tex[2], 2.0) - 125.0*pow(0.20000000000000001*tex[0] + 1.0, 2.0));\n    float cs3 = (10.657432564650314*tex[0] + 53.28716282325157)*exp(-5.0*pow(tex[1], 2.0) - 5.0*pow(tex[2], 2.0) - 125.0*pow(0.20000000000000001*tex[0] + 1.0, 2.0));\n    float cs4 = 2.3830743680178026*exp(-5.0*pow(tex[1], 2.0) - 5.0*pow(tex[2], 2.0) - 31.25*pow(0.40000000000000002*tex[0] + 1.0, 2.0));\n    float cs5 = -10.657432564650314*tex[1]*exp(-5.0*pow(tex[1], 2.0) - 5.0*pow(tex[2], 2.0) - 31.25*pow(0.40000000000000002*tex[0] + 1.0, 2.0));\n    float cs6 = 10.657432564650314*tex[2]*exp(-5.0*pow(tex[1], 2.0) - 5.0*pow(tex[2], 2.0) - 31.25*pow(0.40000000000000002*tex[0] + 1.0, 2.0));\n    float cs7 = (-10.657432564650314*tex[0] - 26.643581411625785)*exp(-5.0*pow(tex[1], 2.0) - 5.0*pow(tex[2], 2.0) - 31.25*pow(0.40000000000000002*tex[0] + 1.0, 2.0));\n    float cs8 = 2.3830743680178026*exp(-5.0*q);\n    float cs9 = 10.657432564650314*tex[1]*exp(-5.0*q);\n    float cs10 = -10.657432564650314*tex[2]*exp(-5.0*q);\n    float cs11 = -10.657432564650314*tex[0]*exp(-5.0*q);\n    float cs12 = 2.3830743680178026*exp(-5.0*pow(tex[1], 2.0) - 5.0*pow(tex[2], 2.0) - 31.25*pow(0.40000000000000002*tex[0] - 1.0, 2.0));\n    float cs13 = -10.657432564650314*tex[1]*exp(-5.0*pow(tex[1], 2.0) - 5.0*pow(tex[2], 2.0) - 31.25*pow(0.40000000000000002*tex[0] - 1.0, 2.0));\n    float cs14 = -10.657432564650314*tex[2]*exp(-5.0*pow(tex[1], 2.0) - 5.0*pow(tex[2], 2.0) - 31.25*pow(0.40000000000000002*tex[0] - 1.0, 2.0));\n    float cs15 = (10.657432564650314*tex[0] - 26.643581411625785)*exp(-5.0*pow(tex[1], 2.0) - 5.0*pow(tex[2], 2.0) - 31.25*pow(0.40000000000000002*tex[0] - 1.0, 2.0));\n    float csI = 0.0 ;\n    float csR = cs0 + cs1 + cs2 + cs3 + cs4 + cs5 + cs6 + cs7 + cs8 + cs9 + cs10 + cs11 + cs12 + cs13 + cs14 + cs15 ;\n    gl_FragColor = gl_FragColor + vec4(csR, csI, -1.0*csR, .1);\n}",
       "layout": "IPY_MODEL_3556abd97ce0407b8dfb92cb3211750d",
       "pos": [],
       "surf": [],
       "surface_view": false,
       "tabbable": null,
       "tooltip": null
      }
     },
     "74643b94fc614f3bbef3c6357e66ce1e": {
      "model_module": "@jupyter-widgets/base",
      "model_module_version": "1.2.0",
      "model_name": "LayoutModel",
      "state": {}
     },
     "df1734f4fb3d4832812d1e40a40f705a": {
      "model_module": "@jupyter-widgets/base",
      "model_module_version": "2.0.0",
      "model_name": "LayoutModel",
      "state": {
       "_model_module_version": "2.0.0",
       "_view_module_version": "2.0.0",
       "border_bottom": null,
       "border_left": null,
       "border_right": null,
       "border_top": null
      }
     },
     "f238a2088afb4ce5b046bfb8ea539225": {
      "model_module": "evince",
      "model_module_version": "^0.33.0",
      "model_name": "BraketModel",
      "state": {
       "_model_module_version": "^0.33.0",
       "_view_module_version": "^0.33.0",
       "additive": true,
       "ao": [
        1
       ],
       "bg_color": [
        0,
        0,
        0
       ],
       "fragment_shader": "uniform vec3 user_color;\nuniform float time;\n\nvarying vec2 vUv;\nvarying vec3 pos;\nvarying vec3 tex;\nvarying float q;\nvarying float csI;\nvarying float csR;\nvarying float cs0;\nvarying float cs1;\nvarying float cs2;\nvarying float cs3;\nvarying float cs4;\nvarying float cs5;\nvarying float cs6;\nvarying float cs7;\nvarying float cs8;\nvarying float cs9;\nvarying float cs10;\nvarying float cs11;\nvarying float cs12;\nvarying float cs13;\nvarying float cs14;\nvarying float cs15;\nvarying float cs;\n\nvoid main() {\n\n    vec2 p = vUv;\n    float q = tex[0]*tex[0] +tex[1]*tex[1] +tex[2]*tex[2] ;\n    float cs0 = 2.3830743680178026*exp(-5.0*pow(tex[1], 2.0) - 5.0*pow(tex[2], 2.0) - 125.0*pow(0.20000000000000001*tex[0] + 1.0, 2.0));\n    float cs1 = 10.657432564650314*tex[1]*exp(-5.0*pow(tex[1], 2.0) - 5.0*pow(tex[2], 2.0) - 125.0*pow(0.20000000000000001*tex[0] + 1.0, 2.0));\n    float cs2 = 10.657432564650314*tex[2]*exp(-5.0*pow(tex[1], 2.0) - 5.0*pow(tex[2], 2.0) - 125.0*pow(0.20000000000000001*tex[0] + 1.0, 2.0));\n    float cs3 = (10.657432564650314*tex[0] + 53.28716282325157)*exp(-5.0*pow(tex[1], 2.0) - 5.0*pow(tex[2], 2.0) - 125.0*pow(0.20000000000000001*tex[0] + 1.0, 2.0));\n    float cs4 = 2.3830743680178026*exp(-5.0*pow(tex[1], 2.0) - 5.0*pow(tex[2], 2.0) - 31.25*pow(0.40000000000000002*tex[0] + 1.0, 2.0));\n    float cs5 = -10.657432564650314*tex[1]*exp(-5.0*pow(tex[1], 2.0) - 5.0*pow(tex[2], 2.0) - 31.25*pow(0.40000000000000002*tex[0] + 1.0, 2.0));\n    float cs6 = 10.657432564650314*tex[2]*exp(-5.0*pow(tex[1], 2.0) - 5.0*pow(tex[2], 2.0) - 31.25*pow(0.40000000000000002*tex[0] + 1.0, 2.0));\n    float cs7 = (-10.657432564650314*tex[0] - 26.643581411625785)*exp(-5.0*pow(tex[1], 2.0) - 5.0*pow(tex[2], 2.0) - 31.25*pow(0.40000000000000002*tex[0] + 1.0, 2.0));\n    float cs8 = 2.3830743680178026*exp(-5.0*q);\n    float cs9 = 10.657432564650314*tex[1]*exp(-5.0*q);\n    float cs10 = -10.657432564650314*tex[2]*exp(-5.0*q);\n    float cs11 = -10.657432564650314*tex[0]*exp(-5.0*q);\n    float cs12 = 2.3830743680178026*exp(-5.0*pow(tex[1], 2.0) - 5.0*pow(tex[2], 2.0) - 31.25*pow(0.40000000000000002*tex[0] - 1.0, 2.0));\n    float cs13 = -10.657432564650314*tex[1]*exp(-5.0*pow(tex[1], 2.0) - 5.0*pow(tex[2], 2.0) - 31.25*pow(0.40000000000000002*tex[0] - 1.0, 2.0));\n    float cs14 = -10.657432564650314*tex[2]*exp(-5.0*pow(tex[1], 2.0) - 5.0*pow(tex[2], 2.0) - 31.25*pow(0.40000000000000002*tex[0] - 1.0, 2.0));\n    float cs15 = (10.657432564650314*tex[0] - 26.643581411625785)*exp(-5.0*pow(tex[1], 2.0) - 5.0*pow(tex[2], 2.0) - 31.25*pow(0.40000000000000002*tex[0] - 1.0, 2.0));\n    float csI = 0.0 ;\n    float csR = cs0 + cs1 + cs2 + cs3 + cs4 + cs5 + cs6 + cs7 + cs8 + cs9 + cs10 + cs11 + cs12 + cs13 + cs14 + cs15 ;\n    gl_FragColor = gl_FragColor + vec4(csR, csI, -1.0*csR, .1);\n}",
       "layout": "IPY_MODEL_df1734f4fb3d4832812d1e40a40f705a",
       "pos": [],
       "surf": [],
       "surface_view": false,
       "tabbable": null,
       "tooltip": null
      }
     }
    },
    "version_major": 2,
    "version_minor": 0
   }
  }
 },
 "nbformat": 4,
 "nbformat_minor": 5
}
