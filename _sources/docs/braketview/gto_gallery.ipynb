{
 "cells": [
  {
   "cell_type": "markdown",
   "id": "6780c7bd",
   "metadata": {},
   "source": [
    "# A gallery of gaussian type orbitals\n",
    "\n",
    "<b>Author</b> Audun Skau Hansen <a href=\"mailto:a.s.hansen@kjemi.uio.no\">✉️</a> \n",
    "\n",
    "The Hylleraas Centre for Quantum Molecular Sciences, 2022\n",
    "\n",
    "---"
   ]
  },
  {
   "cell_type": "code",
   "execution_count": 1,
   "id": "d2c725a1",
   "metadata": {},
   "outputs": [
    {
     "data": {
      "application/vnd.jupyter.widget-view+json": {
       "model_id": "fa25e67079ad4f36ae7851c35b200e03",
       "version_major": 2,
       "version_minor": 0
      },
      "text/plain": [
       "BraketView(ao=[1], bg_color=[0.0, 0.0, 0.0], fragment_shader='uniform vec3 user_color;\\nuniform float time;\\n\\…"
      ]
     },
     "execution_count": 1,
     "metadata": {},
     "output_type": "execute_result"
    }
   ],
   "source": [
    "import braketlab as bk\n",
    "import numpy as np\n",
    "\n",
    "p = bk.basisbank.get_gto(5.0, 0,0, position = np.array([0,6,0]))\n",
    "for l in range(1,4):\n",
    "    for m in range(-l, l+1):\n",
    "        pn = bk.basisbank.get_gto(5.0, l,m, position = np.array([2*m,6-3*l,0]))\n",
    "        p += pn\n",
    "        \n",
    "p.view()"
   ]
  },
  {
   "cell_type": "code",
   "execution_count": null,
   "id": "7c2a1fa6",
   "metadata": {},
   "outputs": [],
   "source": []
  }
 ],
 "metadata": {
  "kernelspec": {
   "display_name": "Python 3 (ipykernel)",
   "language": "python",
   "name": "python3"
  },
  "language_info": {
   "codemirror_mode": {
    "name": "ipython",
    "version": 3
   },
   "file_extension": ".py",
   "mimetype": "text/x-python",
   "name": "python",
   "nbconvert_exporter": "python",
   "pygments_lexer": "ipython3",
   "version": "3.10.6"
  },
  "widgets": {
   "application/vnd.jupyter.widget-state+json": {
    "state": {
     "199be0c2de2b4e58bf1b0622d1330702": {
      "model_module": "evince",
      "model_module_version": "^0.33.0",
      "model_name": "BraketModel",
      "state": {
       "_model_module_version": "^0.33.0",
       "_view_module_version": "^0.33.0",
       "additive": true,
       "ao": [
        1
       ],
       "bg_color": [
        0,
        0,
        0
       ],
       "fragment_shader": "uniform vec3 user_color;\nuniform float time;\n\nvarying vec2 vUv;\nvarying vec3 pos;\nvarying vec3 tex;\nvarying float q;\nvarying float csI;\nvarying float csR;\nvarying float cs0;\nvarying float cs1;\nvarying float cs2;\nvarying float cs3;\nvarying float cs4;\nvarying float cs5;\nvarying float cs6;\nvarying float cs7;\nvarying float cs8;\nvarying float cs9;\nvarying float cs10;\nvarying float cs11;\nvarying float cs12;\nvarying float cs13;\nvarying float cs14;\nvarying float cs15;\nvarying float cs;\n\nvoid main() {\n\n    vec2 p = vUv;\n    float q = tex[0]*tex[0] +tex[1]*tex[1] +tex[2]*tex[2] ;\n    float cs0 = 2.3830743680178026*exp(-5.0*pow(tex[0], 2.0) - 5.0*pow(tex[2], 2.0) - 5.0*pow(tex[1] - 6.0, 2.0));\n    float cs1 = (10.657432564650314*tex[1] - 31.972297693950942)*exp(-5.0*pow(tex[2], 2.0) - 5.0*pow(tex[0] + 2.0, 2.0) - 5.0*pow(tex[1] - 3.0, 2.0));\n    float cs2 = 10.657432564650314*tex[2]*exp(-5.0*pow(tex[0], 2.0) - 5.0*pow(tex[2], 2.0) - 5.0*pow(tex[1] - 3.0, 2.0));\n    float cs3 = (10.657432564650314*tex[0] - 21.314865129300628)*exp(-5.0*pow(tex[2], 2.0) - 5.0*pow(tex[0] - 2.0, 2.0) - 5.0*pow(tex[1] - 3.0, 2.0));\n    float cs4 = 47.661487360356034*tex[1]*(tex[0] + 4.0)*exp(-5.0*pow(tex[1], 2.0) - 5.0*pow(tex[2], 2.0) - 5.0*pow(tex[0] + 4.0, 2.0));\n    float cs5 = 47.661487360356034*tex[1]*tex[2]*exp(-5.0*pow(tex[1], 2.0) - 5.0*pow(tex[2], 2.0) - 5.0*pow(tex[0] + 2.0, 2.0));\n    float cs6 = (-13.758686278739754*pow(q, 1.0) + 41.276058836219264*pow(tex[2], 2.0))*exp(-5.0*q);\n    float cs7 = 47.661487360356034*tex[2]*(tex[0] - 2.0)*exp(-5.0*pow(tex[1], 2.0) - 5.0*pow(tex[2], 2.0) - 5.0*pow(tex[0] - 2.0, 2.0));\n    float cs8 = 23.830743680178021*(-pow(tex[1], 2.0) + pow(tex[0] - 4.0, 2.0))*exp(-5.0*pow(tex[1], 2.0) - 5.0*pow(tex[2], 2.0) - 5.0*pow(tex[0] - 4.0, 2.0));\n    float cs9 = 213.14865129300622*tex[2]*(tex[0] + 6.0)*(tex[1] + 3.0)*exp(-5.0*pow(tex[2], 2.0) - 5.0*pow(tex[0] + 6.0, 2.0) - 5.0*pow(tex[1] + 3.0, 2.0));\n    float cs10 = 213.14865129300622*tex[2]*(tex[0] + 4.0)*(tex[1] + 3.0)*exp(-5.0*pow(tex[2], 2.0) - 5.0*pow(tex[0] + 4.0, 2.0) - 5.0*pow(tex[1] + 3.0, 2.0));\n    float cs11 = 33.701760913944675*(tex[1] + 3.0)*(5.0*pow(tex[2], 2.0) - pow(pow(tex[2], 2.0) + pow(tex[0] + 2.0, 2.0) + pow(tex[1] + 3.0, 2.0), 1.0))*exp(-5.0*pow(tex[2], 2.0) - 5.0*pow(tex[0] + 2.0, 2.0) - 5.0*pow(tex[1] + 3.0, 2.0));\n    float cs12 = (-82.552117672438513*pow(tex[0], 2.0)*tex[2] - 82.552117672438513*tex[2]*pow(tex[1] + 3.0, 2.0) + 55.034745114959009*pow(tex[2], 3.0))*exp(-5.0*pow(tex[0], 2.0) - 5.0*pow(tex[2], 2.0) - 5.0*pow(tex[1] + 3.0, 2.0));\n    float cs13 = 33.701760913944675*(tex[0] - 2.0)*(5.0*pow(tex[2], 2.0) - pow(pow(tex[2], 2.0) + pow(tex[0] - 2.0, 2.0) + pow(tex[1] + 3.0, 2.0), 1.0))*exp(-5.0*pow(tex[2], 2.0) - 5.0*pow(tex[0] - 2.0, 2.0) - 5.0*pow(tex[1] + 3.0, 2.0));\n    float cs14 = 106.57432564650311*tex[2]*(pow(tex[0] - 4.0, 2.0) - pow(tex[1] + 3.0, 2.0))*exp(-5.0*pow(tex[2], 2.0) - 5.0*pow(tex[0] - 4.0, 2.0) - 5.0*pow(tex[1] + 3.0, 2.0));\n    float cs15 = 43.508786252523933*(tex[0] - 6.0)*(pow(tex[0] - 6.0, 2.0) - 3.0*pow(tex[1] + 3.0, 2.0))*exp(-5.0*pow(tex[2], 2.0) - 5.0*pow(tex[0] - 6.0, 2.0) - 5.0*pow(tex[1] + 3.0, 2.0));\n    float csI = 0.0 ;\n    float csR = cs0 + cs1 + cs2 + cs3 + cs4 + cs5 + cs6 + cs7 + cs8 + cs9 + cs10 + cs11 + cs12 + cs13 + cs14 + cs15 ;\n    gl_FragColor = gl_FragColor + vec4(csR, csI, -1.0*csR, .1);\n}",
       "layout": "IPY_MODEL_82d8f31fff534c55aa59d1f6257cd787",
       "pos": [],
       "surf": [],
       "surface_view": false,
       "tabbable": null,
       "tooltip": null
      }
     },
     "82d8f31fff534c55aa59d1f6257cd787": {
      "model_module": "@jupyter-widgets/base",
      "model_module_version": "2.0.0",
      "model_name": "LayoutModel",
      "state": {
       "_model_module_version": "2.0.0",
       "_view_module_version": "2.0.0",
       "border_bottom": null,
       "border_left": null,
       "border_right": null,
       "border_top": null
      }
     },
     "87c6b8fc23a9459cb659c912490b1a24": {
      "model_module": "@jupyter-widgets/base",
      "model_module_version": "2.0.0",
      "model_name": "LayoutModel",
      "state": {
       "_model_module_version": "2.0.0",
       "_view_module_version": "2.0.0",
       "border_bottom": null,
       "border_left": null,
       "border_right": null,
       "border_top": null
      }
     },
     "a841df253c4e4789844929aa4302c476": {
      "model_module": "@jupyter-widgets/base",
      "model_module_version": "1.2.0",
      "model_name": "LayoutModel",
      "state": {}
     },
     "bc47e7b2fd104051afaaa5856961404a": {
      "model_module": "evince",
      "model_module_version": "^0.24.0",
      "model_name": "BraketModel",
      "state": {
       "_model_module_version": "^0.24.0",
       "_view_module_version": "^0.24.0",
       "ao": [
        1
       ],
       "fragment_shader": "uniform vec3 user_color;\nuniform float time;\n\nvarying vec2 vUv;\nvarying vec3 pos;\nvarying vec3 tex;\nvarying float q;\nvarying float csI;\nvarying float csR;\nvarying float cs0;\nvarying float cs1;\nvarying float cs2;\nvarying float cs3;\nvarying float cs4;\nvarying float cs5;\nvarying float cs6;\nvarying float cs7;\nvarying float cs8;\nvarying float cs9;\nvarying float cs10;\nvarying float cs11;\nvarying float cs12;\nvarying float cs13;\nvarying float cs14;\nvarying float cs15;\nvarying float cs;\n\nvoid main() {\n\n    vec2 p = vUv;\n    float q = tex[0]*tex[0] +tex[1]*tex[1] +tex[2]*tex[2] ;\n    float cs0 = 2.3830743680178026*exp(-5.0*pow(tex[0], 2.0) - 5.0*pow(tex[2], 2.0) - 5.0*pow(tex[1] - 6.0, 2.0));\n    float cs1 = (10.657432564650314*tex[1] - 31.972297693950942)*exp(-5.0*pow(tex[2], 2.0) - 5.0*pow(tex[0] + 2.0, 2.0) - 5.0*pow(tex[1] - 3.0, 2.0));\n    float cs2 = 10.657432564650314*tex[2]*exp(-5.0*pow(tex[0], 2.0) - 5.0*pow(tex[2], 2.0) - 5.0*pow(tex[1] - 3.0, 2.0));\n    float cs3 = (10.657432564650314*tex[0] - 21.314865129300628)*exp(-5.0*pow(tex[2], 2.0) - 5.0*pow(tex[0] - 2.0, 2.0) - 5.0*pow(tex[1] - 3.0, 2.0));\n    float cs4 = 47.661487360356034*tex[1]*(tex[0] + 4.0)*exp(-5.0*pow(tex[1], 2.0) - 5.0*pow(tex[2], 2.0) - 5.0*pow(tex[0] + 4.0, 2.0));\n    float cs5 = 47.661487360356034*tex[1]*tex[2]*exp(-5.0*pow(tex[1], 2.0) - 5.0*pow(tex[2], 2.0) - 5.0*pow(tex[0] + 2.0, 2.0));\n    float cs6 = (-13.758686278739754*pow(q, 1.0) + 41.276058836219264*pow(tex[2], 2.0))*exp(-5.0*q);\n    float cs7 = 47.661487360356034*tex[2]*(tex[0] - 2.0)*exp(-5.0*pow(tex[1], 2.0) - 5.0*pow(tex[2], 2.0) - 5.0*pow(tex[0] - 2.0, 2.0));\n    float cs8 = 23.830743680178021*(-pow(tex[1], 2.0) + pow(tex[0] - 4.0, 2.0))*exp(-5.0*pow(tex[1], 2.0) - 5.0*pow(tex[2], 2.0) - 5.0*pow(tex[0] - 4.0, 2.0));\n    float cs9 = 213.14865129300622*tex[2]*(tex[0] + 6.0)*(tex[1] + 3.0)*exp(-5.0*pow(tex[2], 2.0) - 5.0*pow(tex[0] + 6.0, 2.0) - 5.0*pow(tex[1] + 3.0, 2.0));\n    float cs10 = 213.14865129300622*tex[2]*(tex[0] + 4.0)*(tex[1] + 3.0)*exp(-5.0*pow(tex[2], 2.0) - 5.0*pow(tex[0] + 4.0, 2.0) - 5.0*pow(tex[1] + 3.0, 2.0));\n    float cs11 = 33.701760913944675*(tex[1] + 3.0)*(5.0*pow(tex[2], 2.0) - pow(pow(tex[2], 2.0) + pow(tex[0] + 2.0, 2.0) + pow(tex[1] + 3.0, 2.0), 1.0))*exp(-5.0*pow(tex[2], 2.0) - 5.0*pow(tex[0] + 2.0, 2.0) - 5.0*pow(tex[1] + 3.0, 2.0));\n    float cs12 = (-82.552117672438513*pow(tex[0], 2.0)*tex[2] - 82.552117672438513*tex[2]*pow(tex[1] + 3.0, 2.0) + 55.034745114959009*pow(tex[2], 3.0))*exp(-5.0*pow(tex[0], 2.0) - 5.0*pow(tex[2], 2.0) - 5.0*pow(tex[1] + 3.0, 2.0));\n    float cs13 = 33.701760913944675*(tex[0] - 2.0)*(5.0*pow(tex[2], 2.0) - pow(pow(tex[2], 2.0) + pow(tex[0] - 2.0, 2.0) + pow(tex[1] + 3.0, 2.0), 1.0))*exp(-5.0*pow(tex[2], 2.0) - 5.0*pow(tex[0] - 2.0, 2.0) - 5.0*pow(tex[1] + 3.0, 2.0));\n    float cs14 = 106.57432564650311*tex[2]*(pow(tex[0] - 4.0, 2.0) - pow(tex[1] + 3.0, 2.0))*exp(-5.0*pow(tex[2], 2.0) - 5.0*pow(tex[0] - 4.0, 2.0) - 5.0*pow(tex[1] + 3.0, 2.0));\n    float cs15 = 43.508786252523933*(tex[0] - 6.0)*(pow(tex[0] - 6.0, 2.0) - 3.0*pow(tex[1] + 3.0, 2.0))*exp(-5.0*pow(tex[2], 2.0) - 5.0*pow(tex[0] - 6.0, 2.0) - 5.0*pow(tex[1] + 3.0, 2.0));\n    float csI = 0.0 ;\n    float csR = cs0 + cs1 + cs2 + cs3 + cs4 + cs5 + cs6 + cs7 + cs8 + cs9 + cs10 + cs11 + cs12 + cs13 + cs14 + cs15 ;\n    gl_FragColor = gl_FragColor + vec4(csR, csI, -1.0*csR, .1);\n}",
       "layout": "IPY_MODEL_a841df253c4e4789844929aa4302c476",
       "pos": [],
       "surf": []
      }
     },
     "f158b508eb3341688f2932138d378521": {
      "model_module": "@jupyter-widgets/base",
      "model_module_version": "1.2.0",
      "model_name": "LayoutModel",
      "state": {}
     },
     "f7949a88f374488e8d945625acb7a633": {
      "model_module": "evince",
      "model_module_version": "^0.24.0",
      "model_name": "BraketModel",
      "state": {
       "_model_module_version": "^0.24.0",
       "_view_module_version": "^0.24.0",
       "ao": [
        1
       ],
       "fragment_shader": "uniform vec3 user_color;\nuniform float time;\n\nvarying vec2 vUv;\nvarying vec3 pos;\nvarying vec3 tex;\nvarying float q;\nvarying float csI;\nvarying float csR;\nvarying float cs0;\nvarying float cs1;\nvarying float cs2;\nvarying float cs3;\nvarying float cs4;\nvarying float cs5;\nvarying float cs6;\nvarying float cs7;\nvarying float cs8;\nvarying float cs9;\nvarying float cs10;\nvarying float cs11;\nvarying float cs12;\nvarying float cs13;\nvarying float cs14;\nvarying float cs15;\nvarying float cs;\n\nvoid main() {\n\n    vec2 p = vUv;\n    float q = tex[0]*tex[0] +tex[1]*tex[1] +tex[2]*tex[2] ;\n    float cs0 = 2.3830743680178026*exp(-5.0*pow(tex[0], 2.0) - 5.0*pow(tex[2], 2.0) - 5.0*pow(tex[1] - 6.0, 2.0));\n    float cs1 = (10.657432564650314*tex[1] - 31.972297693950942)*exp(-5.0*pow(tex[2], 2.0) - 5.0*pow(tex[0] + 2.0, 2.0) - 5.0*pow(tex[1] - 3.0, 2.0));\n    float cs2 = 10.657432564650314*tex[2]*exp(-5.0*pow(tex[0], 2.0) - 5.0*pow(tex[2], 2.0) - 5.0*pow(tex[1] - 3.0, 2.0));\n    float cs3 = (10.657432564650314*tex[0] - 21.314865129300628)*exp(-5.0*pow(tex[2], 2.0) - 5.0*pow(tex[0] - 2.0, 2.0) - 5.0*pow(tex[1] - 3.0, 2.0));\n    float cs4 = 47.661487360356034*tex[1]*(tex[0] + 4.0)*exp(-5.0*pow(tex[1], 2.0) - 5.0*pow(tex[2], 2.0) - 5.0*pow(tex[0] + 4.0, 2.0));\n    float cs5 = 47.661487360356034*tex[1]*tex[2]*exp(-5.0*pow(tex[1], 2.0) - 5.0*pow(tex[2], 2.0) - 5.0*pow(tex[0] + 2.0, 2.0));\n    float cs6 = (-13.758686278739754*pow(q, 1.0) + 41.276058836219264*pow(tex[2], 2.0))*exp(-5.0*q);\n    float cs7 = 47.661487360356034*tex[2]*(tex[0] - 2.0)*exp(-5.0*pow(tex[1], 2.0) - 5.0*pow(tex[2], 2.0) - 5.0*pow(tex[0] - 2.0, 2.0));\n    float cs8 = 23.830743680178021*(-pow(tex[1], 2.0) + pow(tex[0] - 4.0, 2.0))*exp(-5.0*pow(tex[1], 2.0) - 5.0*pow(tex[2], 2.0) - 5.0*pow(tex[0] - 4.0, 2.0));\n    float cs9 = 213.14865129300622*tex[2]*(tex[0] + 6.0)*(tex[1] + 3.0)*exp(-5.0*pow(tex[2], 2.0) - 5.0*pow(tex[0] + 6.0, 2.0) - 5.0*pow(tex[1] + 3.0, 2.0));\n    float cs10 = 213.14865129300622*tex[2]*(tex[0] + 4.0)*(tex[1] + 3.0)*exp(-5.0*pow(tex[2], 2.0) - 5.0*pow(tex[0] + 4.0, 2.0) - 5.0*pow(tex[1] + 3.0, 2.0));\n    float cs11 = 33.701760913944675*(tex[1] + 3.0)*(5.0*pow(tex[2], 2.0) - pow(pow(tex[2], 2.0) + pow(tex[0] + 2.0, 2.0) + pow(tex[1] + 3.0, 2.0), 1.0))*exp(-5.0*pow(tex[2], 2.0) - 5.0*pow(tex[0] + 2.0, 2.0) - 5.0*pow(tex[1] + 3.0, 2.0));\n    float cs12 = (-82.552117672438513*tex[2]*pow(pow(tex[0], 2.0) + pow(tex[2], 2.0) + pow(tex[1] + 3.0, 2.0), 1.0) + 137.58686278739754*pow(tex[2], 3.0))*exp(-5.0*pow(tex[0], 2.0) - 5.0*pow(tex[2], 2.0) - 5.0*pow(tex[1] + 3.0, 2.0));\n    float cs13 = 33.701760913944675*(tex[0] - 2.0)*(5.0*pow(tex[2], 2.0) - pow(pow(tex[2], 2.0) + pow(tex[0] - 2.0, 2.0) + pow(tex[1] + 3.0, 2.0), 1.0))*exp(-5.0*pow(tex[2], 2.0) - 5.0*pow(tex[0] - 2.0, 2.0) - 5.0*pow(tex[1] + 3.0, 2.0));\n    float cs14 = 106.57432564650311*tex[2]*(pow(tex[0] - 4.0, 2.0) - pow(tex[1] + 3.0, 2.0))*exp(-5.0*pow(tex[2], 2.0) - 5.0*pow(tex[0] - 4.0, 2.0) - 5.0*pow(tex[1] + 3.0, 2.0));\n    float cs15 = 43.508786252523933*(tex[0] - 6.0)*(pow(tex[0] - 6.0, 2.0) - 3.0*pow(tex[1] + 3.0, 2.0))*exp(-5.0*pow(tex[2], 2.0) - 5.0*pow(tex[0] - 6.0, 2.0) - 5.0*pow(tex[1] + 3.0, 2.0));\n    float csI = 0.0 ;\n    float csR = cs0 + cs1 + cs2 + cs3 + cs4 + cs5 + cs6 + cs7 + cs8 + cs9 + cs10 + cs11 + cs12 + cs13 + cs14 + cs15 ;\n    gl_FragColor = gl_FragColor + vec4(csR, csI, -1.0*csR, .1);\n}",
       "layout": "IPY_MODEL_f158b508eb3341688f2932138d378521",
       "pos": [],
       "surf": []
      }
     },
     "fa25e67079ad4f36ae7851c35b200e03": {
      "model_module": "evince",
      "model_module_version": "^0.33.0",
      "model_name": "BraketModel",
      "state": {
       "_model_module_version": "^0.33.0",
       "_view_module_version": "^0.33.0",
       "additive": true,
       "ao": [
        1
       ],
       "bg_color": [
        0,
        0,
        0
       ],
       "fragment_shader": "uniform vec3 user_color;\nuniform float time;\n\nvarying vec2 vUv;\nvarying vec3 pos;\nvarying vec3 tex;\nvarying float q;\nvarying float csI;\nvarying float csR;\nvarying float cs0;\nvarying float cs1;\nvarying float cs2;\nvarying float cs3;\nvarying float cs4;\nvarying float cs5;\nvarying float cs6;\nvarying float cs7;\nvarying float cs8;\nvarying float cs9;\nvarying float cs10;\nvarying float cs11;\nvarying float cs12;\nvarying float cs13;\nvarying float cs14;\nvarying float cs15;\nvarying float cs;\n\nvoid main() {\n\n    vec2 p = vUv;\n    float q = tex[0]*tex[0] +tex[1]*tex[1] +tex[2]*tex[2] ;\n    float cs0 = 2.3830743680178026*exp(-5.0*pow(tex[0], 2.0) - 5.0*pow(tex[2], 2.0) - 5.0*pow(tex[1] - 6.0, 2.0));\n    float cs1 = (10.657432564650314*tex[1] - 31.972297693950942)*exp(-5.0*pow(tex[2], 2.0) - 5.0*pow(tex[0] + 2.0, 2.0) - 5.0*pow(tex[1] - 3.0, 2.0));\n    float cs2 = 10.657432564650314*tex[2]*exp(-5.0*pow(tex[0], 2.0) - 5.0*pow(tex[2], 2.0) - 5.0*pow(tex[1] - 3.0, 2.0));\n    float cs3 = (10.657432564650314*tex[0] - 21.314865129300628)*exp(-5.0*pow(tex[2], 2.0) - 5.0*pow(tex[0] - 2.0, 2.0) - 5.0*pow(tex[1] - 3.0, 2.0));\n    float cs4 = 47.661487360356034*tex[1]*(tex[0] + 4.0)*exp(-5.0*pow(tex[1], 2.0) - 5.0*pow(tex[2], 2.0) - 5.0*pow(tex[0] + 4.0, 2.0));\n    float cs5 = 47.661487360356034*tex[1]*tex[2]*exp(-5.0*pow(tex[1], 2.0) - 5.0*pow(tex[2], 2.0) - 5.0*pow(tex[0] + 2.0, 2.0));\n    float cs6 = (-13.758686278739754*pow(q, 1.0) + 41.276058836219264*pow(tex[2], 2.0))*exp(-5.0*q);\n    float cs7 = 47.661487360356034*tex[2]*(tex[0] - 2.0)*exp(-5.0*pow(tex[1], 2.0) - 5.0*pow(tex[2], 2.0) - 5.0*pow(tex[0] - 2.0, 2.0));\n    float cs8 = 23.830743680178021*(-pow(tex[1], 2.0) + pow(tex[0] - 4.0, 2.0))*exp(-5.0*pow(tex[1], 2.0) - 5.0*pow(tex[2], 2.0) - 5.0*pow(tex[0] - 4.0, 2.0));\n    float cs9 = 213.14865129300622*tex[2]*(tex[0] + 6.0)*(tex[1] + 3.0)*exp(-5.0*pow(tex[2], 2.0) - 5.0*pow(tex[0] + 6.0, 2.0) - 5.0*pow(tex[1] + 3.0, 2.0));\n    float cs10 = 213.14865129300622*tex[2]*(tex[0] + 4.0)*(tex[1] + 3.0)*exp(-5.0*pow(tex[2], 2.0) - 5.0*pow(tex[0] + 4.0, 2.0) - 5.0*pow(tex[1] + 3.0, 2.0));\n    float cs11 = 33.701760913944675*(tex[1] + 3.0)*(5.0*pow(tex[2], 2.0) - pow(pow(tex[2], 2.0) + pow(tex[0] + 2.0, 2.0) + pow(tex[1] + 3.0, 2.0), 1.0))*exp(-5.0*pow(tex[2], 2.0) - 5.0*pow(tex[0] + 2.0, 2.0) - 5.0*pow(tex[1] + 3.0, 2.0));\n    float cs12 = (-82.552117672438513*pow(tex[0], 2.0)*tex[2] - 82.552117672438513*tex[2]*pow(tex[1] + 3.0, 2.0) + 55.034745114959009*pow(tex[2], 3.0))*exp(-5.0*pow(tex[0], 2.0) - 5.0*pow(tex[2], 2.0) - 5.0*pow(tex[1] + 3.0, 2.0));\n    float cs13 = 33.701760913944675*(tex[0] - 2.0)*(5.0*pow(tex[2], 2.0) - pow(pow(tex[2], 2.0) + pow(tex[0] - 2.0, 2.0) + pow(tex[1] + 3.0, 2.0), 1.0))*exp(-5.0*pow(tex[2], 2.0) - 5.0*pow(tex[0] - 2.0, 2.0) - 5.0*pow(tex[1] + 3.0, 2.0));\n    float cs14 = 106.57432564650311*tex[2]*(pow(tex[0] - 4.0, 2.0) - pow(tex[1] + 3.0, 2.0))*exp(-5.0*pow(tex[2], 2.0) - 5.0*pow(tex[0] - 4.0, 2.0) - 5.0*pow(tex[1] + 3.0, 2.0));\n    float cs15 = 43.508786252523933*(tex[0] - 6.0)*(pow(tex[0] - 6.0, 2.0) - 3.0*pow(tex[1] + 3.0, 2.0))*exp(-5.0*pow(tex[2], 2.0) - 5.0*pow(tex[0] - 6.0, 2.0) - 5.0*pow(tex[1] + 3.0, 2.0));\n    float csI = 0.0 ;\n    float csR = cs0 + cs1 + cs2 + cs3 + cs4 + cs5 + cs6 + cs7 + cs8 + cs9 + cs10 + cs11 + cs12 + cs13 + cs14 + cs15 ;\n    gl_FragColor = gl_FragColor + vec4(csR, csI, -1.0*csR, .1);\n}",
       "layout": "IPY_MODEL_87c6b8fc23a9459cb659c912490b1a24",
       "pos": [],
       "surf": [],
       "surface_view": false,
       "tabbable": null,
       "tooltip": null
      }
     }
    },
    "version_major": 2,
    "version_minor": 0
   }
  }
 },
 "nbformat": 4,
 "nbformat_minor": 5
}
