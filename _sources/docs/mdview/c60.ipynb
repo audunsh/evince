{
 "cells": [
  {
   "cell_type": "markdown",
   "id": "e99c3a3c",
   "metadata": {},
   "source": [
    "# Buckminsterfullerene"
   ]
  },
  {
   "cell_type": "code",
   "execution_count": 1,
   "id": "cbc1b3ab",
   "metadata": {},
   "outputs": [],
   "source": [
    "# run the first cell before presentation\n",
    "\n",
    "import bubblebox as bb\n",
    "from bubblebox.mdbox import lj_force, hook_force, no_force, coulomb_force\n",
    "import numpy as np\n",
    "import matplotlib.pyplot as plt\n",
    "\n",
    "def ring_connector(ring_configuration, connection_pattern = None):\n",
    "    \n",
    "    connections = []\n",
    "    \n",
    "    \n",
    "    # create unconnected rings\n",
    "    for i in range(len(ring_configuration)):\n",
    "        # shift indices of rings\n",
    "        dR = int(np.sum(ring_configuration[:i]))\n",
    "        \n",
    "        # create current ring\n",
    "        current_connections = []\n",
    "        for j in range(ring_configuration[i]):\n",
    "            current_connections.append([(1+j)%ring_configuration[i]+dR,(-1+j)%ring_configuration[i]+dR])\n",
    "        \n",
    "        connections.append(current_connections)\n",
    "        \n",
    "    \n",
    "    unconnected_edges = ring_configuration*1\n",
    "    \n",
    "    # connect rings sucessively\n",
    "    for i in range(len(ring_configuration)-1):\n",
    "        \n",
    "        # how many exterior sites per internal site?\n",
    "       \n",
    "        inner = np.linspace(-1,1,unconnected_edges[i]+1)[:-1]\n",
    "        outer = np.linspace(-1,1,ring_configuration[i+1]+1)[:-1]\n",
    "        \n",
    "        ci = np.argmin((inner[:, None] - outer[None, :])**2, axis = 1)\n",
    "\n",
    "        \n",
    "        if connection_pattern is None:\n",
    "\n",
    "\n",
    "            inc = ring_configuration[i+1]/ unconnected_edges[i]\n",
    "            #print(\"increment:\", inc)\n",
    "\n",
    "            k = 0\n",
    "\n",
    "\n",
    "            for j in range(ring_configuration[i]):\n",
    "                if len(connections[i][j])<3:\n",
    "                    connect_k = (int(np.ceil(k*inc))+i//2)%ring_configuration[i+1]\n",
    "                    connections[i  ][j].append(connect_k + np.sum(ring_configuration[:i+1]))\n",
    "                    connections[i+1][connect_k].append(j + np.sum(ring_configuration[:i]))\n",
    "\n",
    "\n",
    "                    #book-keeping\n",
    "                    unconnected_edges[i+1] -= 1\n",
    "                    unconnected_edges[i  ] -= 1\n",
    "\n",
    "                    k += 1\n",
    "        else:\n",
    "            nc = len(connection_pattern[i])\n",
    "            \n",
    "            \n",
    "            repeat_times = ring_configuration[i+1]/nc\n",
    "            \n",
    "\n",
    "            \n",
    "            \n",
    "            connection_i = []# \n",
    "            for j in range(int(repeat_times)):\n",
    "                connection_i += connection_pattern[i]\n",
    "                \n",
    "            outer_connection_sites = np.arange(ring_configuration[i+1])[np.array(connection_i)]\n",
    "            \n",
    "            k = 0\n",
    "            for j in range(ring_configuration[i]):\n",
    "                if len(connections[i][j])<3:\n",
    "                    #print(\"connecting\")\n",
    "                    connect_k = outer_connection_sites[k]\n",
    "                    connections[i  ][j].append(connect_k + np.sum(ring_configuration[:i+1]))\n",
    "                    connections[i+1][connect_k].append(j + np.sum(ring_configuration[:i]))\n",
    "\n",
    "\n",
    "                    #book-keeping\n",
    "                    unconnected_edges[i+1] -= 1\n",
    "                    unconnected_edges[i  ] -= 1\n",
    "\n",
    "                    k += 1\n",
    "                    \n",
    "                \n",
    "    # create final graph\n",
    "    graph = []\n",
    "    for layer in connections:\n",
    "        for connectivity in layer:\n",
    "            graph.append(connectivity)\n",
    "\n",
    "            \n",
    "    graph = np.array(graph)\n",
    "    \n",
    "\n",
    "    return graph\n",
    "\n",
    "def connected_structure(connection_indices, n_dimensions = 3):\n",
    "    n_atoms = connection_indices.shape[0]\n",
    "    \n",
    "    \n",
    "    b = bb.bubblebox.mdbox(n_bubbles = n_atoms, size = (np.ones(n_dimensions, dtype = float)*20).tolist())\n",
    "    \n",
    "\n",
    "    \n",
    "    b.set_forces(coulomb_force, force_params = np.array([7.0,7.0]))\n",
    "    \n",
    "    \n",
    "    \n",
    "    for i in range(n_atoms):\n",
    "        # connect atom i to the respective atoms\n",
    "        bubbles_a = np.zeros(n_atoms, dtype = bool)\n",
    "        bubbles_a[i] = True\n",
    "            \n",
    "        for j in range(len(connection_indices[i])):\n",
    "            \n",
    "            \n",
    "            bubbles_b = np.zeros(n_atoms, dtype = bool)\n",
    "            bubbles_b[connection_indices[i,j]] = True\n",
    "            \n",
    "            #print(bubbles_a, bubbles_b)\n",
    "            \n",
    "            b.set_forces(hook_force, bubbles_a = bubbles_a, bubbles_b = bubbles_b, force_params = np.array([20,3]))\n",
    "    b.r2_cut = 100000\n",
    "    #b.pos += np.random.multivariate_normal(np.zeros(3), np.eye(3)*.1, n_atoms).T\n",
    "    #b.pos = b.pos[:, np.random.choice(n_atoms, n_atoms, replace = False)]\n",
    "    b.pair_list_update_frequency = 2\n",
    "    return b\n",
    "\n",
    "# visualize ring\n",
    "\n",
    "def show_graph(ring_configuration, connectivity):\n",
    "    \n",
    "    \n",
    "    pos = np.zeros((3, np.sum(ring_configuration)), dtype = float)\n",
    "    \n",
    "    count = 0\n",
    "    \n",
    "    count_sum = np.cumsum(ring_configuration)\n",
    "    for i in range(len(ring_configuration)):\n",
    "        t = np.linspace(0,2*np.pi, ring_configuration[i]+1)[:-1] \n",
    "        #print(int(np.sum(ring_configuration[:i])),int(np.sum(ring_configuration[:i])+ring_configuration[i]))\n",
    "        pos[:,int(np.sum(ring_configuration[:i])):int(np.sum(ring_configuration[:i])+ring_configuration[i])] = np.array([(i+1)*np.sin(t), (i+1)*np.cos(t), 0*t])\n",
    "                   \n",
    "    #print(pos)\n",
    "    plt.figure(figsize = (8,8))\n",
    "    plt.plot(pos[0], pos[1], \"o\", color = (0,0,0))\n",
    "    \n",
    "    for i in range(len(connectivity)):\n",
    "        pi = pos[:,i]\n",
    "        for j in range(len(connectivity[i])):\n",
    "            pj = pos[:, int(connectivity[i,j])]\n",
    "            \n",
    "            plt.plot([pi[0], pj[0]], [pi[1], pj[1]], \"-\", color = (0,0,0), zorder = -1)\n",
    "            \n",
    "            \n",
    "            \n",
    "        \n",
    "    plt.axis(\"off\")\n",
    "    plt.show()\n",
    "    return pos\n",
    "\n",
    "connection_pattern = [[False, True , False],\n",
    "[False, False, True, True],\n",
    "[True, False, True],\n",
    "[True]] #working\n",
    "\n",
    "\n",
    "#connection_pattern = [[True, False , False],\n",
    "#[False, True, True, False],\n",
    "#[False, True, True],\n",
    "#[True]]\n",
    "\n",
    "ring = np.array([5,15,20,15,5]) #c60\n",
    "\n",
    "m = ring_connector(ring, connection_pattern)"
   ]
  },
  {
   "cell_type": "code",
   "execution_count": 2,
   "id": "d8cb7692",
   "metadata": {},
   "outputs": [
    {
     "data": {
      "image/png": "[encoded data removed]",
      "text/plain": [
       "<Figure size 800x800 with 1 Axes>"
      ]
     },
     "metadata": {},
     "output_type": "display_data"
    }
   ],
   "source": [
    "pos = show_graph(ring, m)"
   ]
  },
  {
   "cell_type": "code",
   "execution_count": 3,
   "id": "d7e0ffe0",
   "metadata": {},
   "outputs": [
    {
     "data": {
      "application/vnd.jupyter.widget-view+json": {
       "model_id": "562131efcbef46bc87756746916845f8",
       "version_major": 2,
       "version_minor": 0
      },
      "text/plain": [
       "MDView(bg_color=[1.0, 1.0, 1.0], box=[20.0, 20.0, 20.0], colors=[[0.3488017053882986, 0.6783107557002799, 0.27…"
      ]
     },
     "execution_count": 3,
     "metadata": {},
     "output_type": "execute_result"
    }
   ],
   "source": [
    "b = connected_structure(np.array(m, dtype = int))\n",
    "b.pos = pos\n",
    "b.pos[2] += .1*np.sqrt(pos[0]**2 + pos[1]**2)\n",
    "b.view()"
   ]
  },
  {
   "cell_type": "code",
   "execution_count": 4,
   "id": "db66f807",
   "metadata": {},
   "outputs": [],
   "source": [
    "# relax structure\n",
    "\n",
    "for i in range(10000):\n",
    "    for j in range(3):\n",
    "        b.advance()\n",
    "    b.vel_ *= 0.99\n",
    "    b.update_view()"
   ]
  },
  {
   "cell_type": "code",
   "execution_count": 5,
   "id": "56ba8e3d",
   "metadata": {},
   "outputs": [
    {
     "data": {
      "application/vnd.jupyter.widget-view+json": {
       "model_id": "4689c122dead4d6393a0b709d97172f0",
       "version_major": 2,
       "version_minor": 0
      },
      "text/plain": [
       "SpotlightView(aperture=0.001, bg_color=[0.0, 0.05, 0.0], bonds=[[0, 1], [0, 4], [0, 6], [1, 2], [1, 9], [2, 3]…"
      ]
     },
     "execution_count": 5,
     "metadata": {},
     "output_type": "execute_result"
    }
   ],
   "source": [
    "import evince as ev\n",
    "\n",
    "b.pos *= 2\n",
    "bonds = ev.spotlight.extract_bonds(b)\n",
    "mv = ev.SpotlightView(b, window_scale_height=1.0,window_scale_width=1.0, realism = True, sao = True, dof = True, fxaa = True, bonds = bonds, bg_color = [0.0,0.05,0.0], focus = 8, aperture = .0010, max_blur = .01,\n",
    "                 saoScale = 360, saoIntensity = 1.5, saoKernelRadius=1, saoMinResolution=100)\n",
    "\n",
    "mv"
   ]
  },
  {
   "cell_type": "code",
   "execution_count": null,
   "id": "e906b843",
   "metadata": {},
   "outputs": [],
   "source": []
  }
 ],
 "metadata": {
  "kernelspec": {
   "display_name": "Python 3 (ipykernel)",
   "language": "python",
   "name": "python3"
  },
  "language_info": {
   "codemirror_mode": {
    "name": "ipython",
    "version": 3
   },
   "file_extension": ".py",
   "mimetype": "text/x-python",
   "name": "python",
   "nbconvert_exporter": "python",
   "pygments_lexer": "ipython3",
   "version": "3.10.6"
  },
  "widgets": {
   "application/vnd.jupyter.widget-state+json": {
    "state": {
     "129e9b7649c2407fae3eb4847bdabecd": {
      "model_module": "@jupyter-widgets/base",
      "model_module_version": "2.0.0",
      "model_name": "LayoutModel",
      "state": {
       "_model_module_version": "2.0.0",
       "_view_module_version": "2.0.0",
       "border_bottom": null,
       "border_left": null,
       "border_right": null,
       "border_top": null
      }
     },
     "4689c122dead4d6393a0b709d97172f0": {
      "model_module": "evince",
      "model_module_version": "^0.33.0",
      "model_name": "SpotlightModel",
      "state": {
       "_model_module_version": "^0.33.0",
       "_view_module_version": "^0.33.0",
       "additive": false,
       "aperture": 0.001,
       "bg_color": [
        0,
        0.05,
        0
       ],
       "bonds": [
        [
         0,
         1
        ],
        [
         0,
         4
        ],
        [
         0,
         6
        ],
        [
         1,
         2
        ],
        [
         1,
         9
        ],
        [
         2,
         3
        ],
        [
         2,
         12
        ],
        [
         3,
         4
        ],
        [
         3,
         15
        ],
        [
         4,
         18
        ],
        [
         5,
         6
        ],
        [
         5,
         19
        ],
        [
         5,
         22
        ],
        [
         6,
         7
        ],
        [
         7,
         8
        ],
        [
         7,
         23
        ],
        [
         8,
         9
        ],
        [
         8,
         26
        ],
        [
         9,
         10
        ],
        [
         10,
         11
        ],
        [
         10,
         27
        ],
        [
         11,
         12
        ],
        [
         11,
         30
        ],
        [
         12,
         13
        ],
        [
         13,
         14
        ],
        [
         13,
         31
        ],
        [
         14,
         15
        ],
        [
         14,
         34
        ],
        [
         15,
         16
        ],
        [
         16,
         17
        ],
        [
         16,
         35
        ],
        [
         17,
         18
        ],
        [
         17,
         38
        ],
        [
         18,
         19
        ],
        [
         19,
         39
        ],
        [
         20,
         21
        ],
        [
         20,
         39
        ],
        [
         20,
         40
        ],
        [
         21,
         22
        ],
        [
         21,
         42
        ],
        [
         22,
         23
        ],
        [
         23,
         24
        ],
        [
         24,
         25
        ],
        [
         24,
         43
        ],
        [
         25,
         26
        ],
        [
         25,
         45
        ],
        [
         26,
         27
        ],
        [
         27,
         28
        ],
        [
         28,
         29
        ],
        [
         28,
         46
        ],
        [
         29,
         30
        ],
        [
         29,
         48
        ],
        [
         30,
         31
        ],
        [
         31,
         32
        ],
        [
         32,
         33
        ],
        [
         32,
         49
        ],
        [
         33,
         34
        ],
        [
         33,
         51
        ],
        [
         34,
         35
        ],
        [
         35,
         36
        ],
        [
         36,
         37
        ],
        [
         36,
         52
        ],
        [
         37,
         38
        ],
        [
         37,
         54
        ],
        [
         38,
         39
        ],
        [
         40,
         41
        ],
        [
         40,
         54
        ],
        [
         41,
         42
        ],
        [
         41,
         55
        ],
        [
         42,
         43
        ],
        [
         43,
         44
        ],
        [
         44,
         45
        ],
        [
         44,
         56
        ],
        [
         45,
         46
        ],
        [
         46,
         47
        ],
        [
         47,
         48
        ],
        [
         47,
         57
        ],
        [
         48,
         49
        ],
        [
         49,
         50
        ],
        [
         50,
         51
        ],
        [
         50,
         58
        ],
        [
         51,
         52
        ],
        [
         52,
         53
        ],
        [
         53,
         54
        ],
        [
         53,
         59
        ],
        [
         55,
         56
        ],
        [
         55,
         59
        ],
        [
         56,
         57
        ],
        [
         57,
         58
        ],
        [
         58,
         59
        ]
       ],
       "box": [
        20,
        20,
        20
       ],
       "colors": [
        [
         1,
         1,
         1
        ],
        [
         1,
         1,
         1
        ],
        [
         1,
         1,
         1
        ],
        [
         1,
         1,
         1
        ],
        [
         1,
         1,
         1
        ],
        [
         1,
         1,
         1
        ],
        [
         1,
         1,
         1
        ],
        [
         1,
         1,
         1
        ],
        [
         1,
         1,
         1
        ],
        [
         1,
         1,
         1
        ],
        [
         1,
         1,
         1
        ],
        [
         1,
         1,
         1
        ],
        [
         1,
         1,
         1
        ],
        [
         1,
         1,
         1
        ],
        [
         1,
         1,
         1
        ],
        [
         1,
         1,
         1
        ],
        [
         1,
         1,
         1
        ],
        [
         1,
         1,
         1
        ],
        [
         1,
         1,
         1
        ],
        [
         1,
         1,
         1
        ],
        [
         1,
         1,
         1
        ],
        [
         1,
         1,
         1
        ],
        [
         1,
         1,
         1
        ],
        [
         1,
         1,
         1
        ],
        [
         1,
         1,
         1
        ],
        [
         1,
         1,
         1
        ],
        [
         1,
         1,
         1
        ],
        [
         1,
         1,
         1
        ],
        [
         1,
         1,
         1
        ],
        [
         1,
         1,
         1
        ],
        [
         1,
         1,
         1
        ],
        [
         1,
         1,
         1
        ],
        [
         1,
         1,
         1
        ],
        [
         1,
         1,
         1
        ],
        [
         1,
         1,
         1
        ],
        [
         1,
         1,
         1
        ],
        [
         1,
         1,
         1
        ],
        [
         1,
         1,
         1
        ],
        [
         1,
         1,
         1
        ],
        [
         1,
         1,
         1
        ],
        [
         1,
         1,
         1
        ],
        [
         1,
         1,
         1
        ],
        [
         1,
         1,
         1
        ],
        [
         1,
         1,
         1
        ],
        [
         1,
         1,
         1
        ],
        [
         1,
         1,
         1
        ],
        [
         1,
         1,
         1
        ],
        [
         1,
         1,
         1
        ],
        [
         1,
         1,
         1
        ],
        [
         1,
         1,
         1
        ],
        [
         1,
         1,
         1
        ],
        [
         1,
         1,
         1
        ],
        [
         1,
         1,
         1
        ],
        [
         1,
         1,
         1
        ],
        [
         1,
         1,
         1
        ],
        [
         1,
         1,
         1
        ],
        [
         1,
         1,
         1
        ],
        [
         1,
         1,
         1
        ],
        [
         1,
         1,
         1
        ],
        [
         1,
         1,
         1
        ]
       ],
       "dof": true,
       "focus": 8,
       "fxaa": true,
       "init": true,
       "layout": "IPY_MODEL_c1e9e36f89004bb396c2ccd3f1b9d294",
       "masses": [
        1,
        1,
        1,
        1,
        1,
        1,
        1,
        1,
        1,
        1,
        1,
        1,
        1,
        1,
        1,
        1,
        1,
        1,
        1,
        1,
        1,
        1,
        1,
        1,
        1,
        1,
        1,
        1,
        1,
        1,
        1,
        1,
        1,
        1,
        1,
        1,
        1,
        1,
        1,
        1,
        1,
        1,
        1,
        1,
        1,
        1,
        1,
        1,
        1,
        1,
        1,
        1,
        1,
        1,
        1,
        1,
        1,
        1,
        1,
        1
       ],
       "max_blur": 0.01,
       "pos": [
        [
         2.247100684960756,
         2.2104037173763835,
         -8.044222784989879
        ],
        [
         2.7966111587783233,
         -1.4540674361043504,
         -8.044222784989895
        ],
        [
         -0.5186999355185029,
         -3.1090668148232723,
         -8.044222784989879
        ],
        [
         -3.117185348891109,
         -0.4674415287508105,
         -8.04422278498985
        ],
        [
         -1.40782655932937,
         2.8201720623020736,
         -8.044222784989854
        ],
        [
         3.0991476794402817,
         7.253543774647201,
         -4.137015939278922
        ],
        [
         4.506974238769671,
         4.4333717123450445,
         -6.085082805016557
        ],
        [
         7.303585397548018,
         2.9793042762406525,
         -4.137015939278908
        ],
        [
         7.856219374135107,
         -0.7059962996841155,
         -4.1370159392789345
        ],
        [
         5.609118689174314,
         -2.916400017060514,
         -6.085082805016616
        ],
        [
         5.090418753655741,
         -6.025466831883853,
         -4.137015939278948
        ],
        [
         1.7562629168506172,
         -7.689873483783635,
         -4.137015939278982
        ],
        [
         -1.0403482419277255,
         -6.235806047679209,
         -6.085082805016621
        ],
        [
         -4.157533590818909,
         -6.703247576430013,
         -4.137015939278954
        ],
        [
         -6.7707891983404,
         -4.046606882480728,
         -4.137015939278963
        ],
        [
         -6.252089262821831,
         -0.9375400676573883,
         -6.08508280501662
        ],
        [
         -7.659915822151264,
         1.8826319946447345,
         -4.137015939278975
        ],
        [
         -5.940840772085637,
         5.188932891301253,
         -4.137015939278977
        ],
        [
         -2.82365542319444,
         5.656374420052083,
         -6.0850828050166
        ],
        [
         -0.5765547382336556,
         7.866778137428506,
         -4.137015939278944
        ],
        [
         -0.36747831740163434,
         9.055978109981266,
         2.1849775381578795
        ],
        [
         3.287448926888521,
         8.446209765055727,
         2.1849775381579026
        ],
        [
         5.025674174288224,
         7.5424385271684065,
         -0.984977538157794
        ],
        [
         7.624159587660792,
         4.900813241095888,
         -0.984977538157797
        ],
        [
         8.499189947782526,
         3.147943785033727,
         2.1849775381578547
        ],
        [
         9.048700421600218,
         -0.5165273684470026,
         2.184977538157857
        ],
        [
         8.726304038065566,
         -2.4489584883097484,
         -0.9849775381578363
        ],
        [
         7.016945248503709,
         -5.736572079362589,
         -0.9849775381578347
        ],
        [
         5.620266581972707,
         -7.110441856156464,
         2.1849775381578165
        ],
        [
         2.30495548767593,
         -8.76544123487552,
         2.184977538157803
        ],
        [
         0.36747831740166437,
         -9.055978109981433,
         -0.9849775381578786
        ],
        [
         -3.2874489268884552,
         -8.446209765055611,
         -0.9849775381578453
        ],
        [
         -5.025674174288231,
         -7.542438527168302,
         2.184977538157818
        ],
        [
         -7.62415958766091,
         -4.900813241095885,
         2.184977538157838
        ],
        [
         -8.499189947782682,
         -3.1479437850338,
         -0.98497753815785
        ],
        [
         -9.048700421600117,
         0.5165273684469599,
         -0.9849775381578313
        ],
        [
         -8.726304038065308,
         2.44895848830971,
         2.184977538157835
        ],
        [
         -7.016945248503644,
         5.736572079362648,
         2.184977538157889
        ],
        [
         -5.620266581972754,
         7.110441856156435,
         -0.9849775381578393
        ],
        [
         -2.304955487675898,
         8.7654412348753,
         -0.9849775381577895
        ],
        [
         -1.7562629168505848,
         7.689873483783606,
         5.337015939279024
        ],
        [
         1.0403482419277725,
         6.235806047679224,
         7.285082805016655
        ],
        [
         4.157533590818944,
         6.703247576430097,
         5.337015939279007
        ],
        [
         6.770789198340333,
         4.046606882480716,
         5.3370159392789915
        ],
        [
         6.2520892628218645,
         0.9375400676573468,
         7.285082805016632
        ],
        [
         7.659915822151302,
         -1.8826319946447776,
         5.337015939278988
        ],
        [
         5.9408407720856315,
         -5.188932891301281,
         5.337015939278948
        ],
        [
         2.8236554231944617,
         -5.656374420052172,
         7.28508280501659
        ],
        [
         0.5765547382336689,
         -7.866778137428567,
         5.33701593927892
        ],
        [
         -3.09914767944026,
         -7.2535437746471745,
         5.337015939278935
        ],
        [
         -4.506974238769737,
         -4.433371712345105,
         7.285082805016625
        ],
        [
         -7.303585397548088,
         -2.9793042762407143,
         5.33701593927899
        ],
        [
         -7.856219374135018,
         0.7059962996840727,
         5.3370159392789684
        ],
        [
         -5.609118689174279,
         2.916400017060513,
         7.285082805016646
        ],
        [
         -5.090418753655728,
         6.025466831883888,
         5.3370159392790395
        ],
        [
         0.5186999355185552,
         3.109066814823243,
         9.244222784989844
        ],
        [
         3.1171853488911276,
         0.4674415287507465,
         9.244222784989825
        ],
        [
         1.4078265593293893,
         -2.8201720623021433,
         9.244222784989809
        ],
        [
         -2.2471006849607353,
         -2.2104037173764453,
         9.244222784989828
        ],
        [
         -2.7966111587782585,
         1.454067436104297,
         9.244222784989837
        ]
       ],
       "radius": [
        1,
        1,
        1,
        1,
        1,
        1,
        1,
        1,
        1,
        1,
        1,
        1,
        1,
        1,
        1,
        1,
        1,
        1,
        1,
        1,
        1,
        1,
        1,
        1,
        1,
        1,
        1,
        1,
        1,
        1,
        1,
        1,
        1,
        1,
        1,
        1,
        1,
        1,
        1,
        1,
        1,
        1,
        1,
        1,
        1,
        1,
        1,
        1,
        1,
        1,
        1,
        1,
        1,
        1,
        1,
        1,
        1,
        1,
        1,
        1
       ],
       "sao": true,
       "saoBias": 0.1,
       "saoBlur": false,
       "saoBlurDepthCutoff": 0.05,
       "saoBlurRadius": 50,
       "saoBlurStdDev": 1,
       "saoIntensity": 1.5,
       "saoKernelRadius": 1,
       "saoMinResolution": 100,
       "saoScale": 360,
       "tabbable": null,
       "tooltip": null,
       "window_scale_height": 1,
       "window_scale_width": 1
      }
     },
     "562131efcbef46bc87756746916845f8": {
      "model_module": "evince",
      "model_module_version": "^0.33.0",
      "model_name": "MDModel",
      "state": {
       "_model_module_version": "^0.33.0",
       "_view_module_version": "^0.33.0",
       "additive": false,
       "bg_color": [
        1,
        1,
        1
       ],
       "box": [
        20,
        20,
        20
       ],
       "colors": [
        [
         0.3488017053882986,
         0.6783107557002799,
         0.27594192766296977
        ],
        [
         0.3488017053882986,
         0.6783107557002799,
         0.27594192766296977
        ],
        [
         0.3488017053882986,
         0.6783107557002799,
         0.27594192766296977
        ],
        [
         0.3488017053882986,
         0.6783107557002799,
         0.27594192766296977
        ],
        [
         0.3488017053882986,
         0.6783107557002799,
         0.27594192766296977
        ],
        [
         0.3488017053882986,
         0.6783107557002799,
         0.27594192766296977
        ],
        [
         0.3488017053882986,
         0.6783107557002799,
         0.27594192766296977
        ],
        [
         0.3488017053882986,
         0.6783107557002799,
         0.27594192766296977
        ],
        [
         0.3488017053882986,
         0.6783107557002799,
         0.27594192766296977
        ],
        [
         0.3488017053882986,
         0.6783107557002799,
         0.27594192766296977
        ],
        [
         0.3488017053882986,
         0.6783107557002799,
         0.27594192766296977
        ],
        [
         0.3488017053882986,
         0.6783107557002799,
         0.27594192766296977
        ],
        [
         0.3488017053882986,
         0.6783107557002799,
         0.27594192766296977
        ],
        [
         0.3488017053882986,
         0.6783107557002799,
         0.27594192766296977
        ],
        [
         0.3488017053882986,
         0.6783107557002799,
         0.27594192766296977
        ],
        [
         0.3488017053882986,
         0.6783107557002799,
         0.27594192766296977
        ],
        [
         0.3488017053882986,
         0.6783107557002799,
         0.27594192766296977
        ],
        [
         0.3488017053882986,
         0.6783107557002799,
         0.27594192766296977
        ],
        [
         0.3488017053882986,
         0.6783107557002799,
         0.27594192766296977
        ],
        [
         0.3488017053882986,
         0.6783107557002799,
         0.27594192766296977
        ],
        [
         0.3488017053882986,
         0.6783107557002799,
         0.27594192766296977
        ],
        [
         0.3488017053882986,
         0.6783107557002799,
         0.27594192766296977
        ],
        [
         0.3488017053882986,
         0.6783107557002799,
         0.27594192766296977
        ],
        [
         0.3488017053882986,
         0.6783107557002799,
         0.27594192766296977
        ],
        [
         0.3488017053882986,
         0.6783107557002799,
         0.27594192766296977
        ],
        [
         0.3488017053882986,
         0.6783107557002799,
         0.27594192766296977
        ],
        [
         0.3488017053882986,
         0.6783107557002799,
         0.27594192766296977
        ],
        [
         0.3488017053882986,
         0.6783107557002799,
         0.27594192766296977
        ],
        [
         0.3488017053882986,
         0.6783107557002799,
         0.27594192766296977
        ],
        [
         0.3488017053882986,
         0.6783107557002799,
         0.27594192766296977
        ],
        [
         0.3488017053882986,
         0.6783107557002799,
         0.27594192766296977
        ],
        [
         0.3488017053882986,
         0.6783107557002799,
         0.27594192766296977
        ],
        [
         0.3488017053882986,
         0.6783107557002799,
         0.27594192766296977
        ],
        [
         0.3488017053882986,
         0.6783107557002799,
         0.27594192766296977
        ],
        [
         0.3488017053882986,
         0.6783107557002799,
         0.27594192766296977
        ],
        [
         0.3488017053882986,
         0.6783107557002799,
         0.27594192766296977
        ],
        [
         0.3488017053882986,
         0.6783107557002799,
         0.27594192766296977
        ],
        [
         0.3488017053882986,
         0.6783107557002799,
         0.27594192766296977
        ],
        [
         0.3488017053882986,
         0.6783107557002799,
         0.27594192766296977
        ],
        [
         0.3488017053882986,
         0.6783107557002799,
         0.27594192766296977
        ],
        [
         0.3488017053882986,
         0.6783107557002799,
         0.27594192766296977
        ],
        [
         0.3488017053882986,
         0.6783107557002799,
         0.27594192766296977
        ],
        [
         0.3488017053882986,
         0.6783107557002799,
         0.27594192766296977
        ],
        [
         0.3488017053882986,
         0.6783107557002799,
         0.27594192766296977
        ],
        [
         0.3488017053882986,
         0.6783107557002799,
         0.27594192766296977
        ],
        [
         0.3488017053882986,
         0.6783107557002799,
         0.27594192766296977
        ],
        [
         0.3488017053882986,
         0.6783107557002799,
         0.27594192766296977
        ],
        [
         0.3488017053882986,
         0.6783107557002799,
         0.27594192766296977
        ],
        [
         0.3488017053882986,
         0.6783107557002799,
         0.27594192766296977
        ],
        [
         0.3488017053882986,
         0.6783107557002799,
         0.27594192766296977
        ],
        [
         0.3488017053882986,
         0.6783107557002799,
         0.27594192766296977
        ],
        [
         0.3488017053882986,
         0.6783107557002799,
         0.27594192766296977
        ],
        [
         0.3488017053882986,
         0.6783107557002799,
         0.27594192766296977
        ],
        [
         0.3488017053882986,
         0.6783107557002799,
         0.27594192766296977
        ],
        [
         0.3488017053882986,
         0.6783107557002799,
         0.27594192766296977
        ],
        [
         0.3488017053882986,
         0.6783107557002799,
         0.27594192766296977
        ],
        [
         0.3488017053882986,
         0.6783107557002799,
         0.27594192766296977
        ],
        [
         0.3488017053882986,
         0.6783107557002799,
         0.27594192766296977
        ],
        [
         0.3488017053882986,
         0.6783107557002799,
         0.27594192766296977
        ],
        [
         0.3488017053882986,
         0.6783107557002799,
         0.27594192766296977
        ]
       ],
       "init": true,
       "layout": "IPY_MODEL_129e9b7649c2407fae3eb4847bdabecd",
       "masses": [
        1,
        1,
        1,
        1,
        1,
        1,
        1,
        1,
        1,
        1,
        1,
        1,
        1,
        1,
        1,
        1,
        1,
        1,
        1,
        1,
        1,
        1,
        1,
        1,
        1,
        1,
        1,
        1,
        1,
        1,
        1,
        1,
        1,
        1,
        1,
        1,
        1,
        1,
        1,
        1,
        1,
        1,
        1,
        1,
        1,
        1,
        1,
        1,
        1,
        1,
        1,
        1,
        1,
        1,
        1,
        1,
        1,
        1,
        1,
        1
       ],
       "pos": [
        [
         1.123550342480378,
         1.1052018586881918,
         -4.022111392494939
        ],
        [
         1.3983055793891617,
         -0.7270337180521752,
         -4.022111392494947
        ],
        [
         -0.25934996775925145,
         -1.5545334074116361,
         -4.022111392494939
        ],
        [
         -1.5585926744455545,
         -0.23372076437540526,
         -4.022111392494925
        ],
        [
         -0.703913279664685,
         1.4100860311510368,
         -4.022111392494927
        ],
        [
         1.5495738397201408,
         3.6267718873236006,
         -2.068507969639461
        ],
        [
         2.2534871193848356,
         2.2166858561725222,
         -3.0425414025082786
        ],
        [
         3.651792698774009,
         1.4896521381203263,
         -2.068507969639454
        ],
        [
         3.9281096870675536,
         -0.35299814984205774,
         -2.0685079696394673
        ],
        [
         2.804559344587157,
         -1.458200008530257,
         -3.042541402508308
        ],
        [
         2.5452093768278705,
         -3.0127334159419266,
         -2.068507969639474
        ],
        [
         0.8781314584253086,
         -3.8449367418918174,
         -2.068507969639491
        ],
        [
         -0.5201741209638627,
         -3.1179030238396046,
         -3.0425414025083106
        ],
        [
         -2.0787667954094546,
         -3.3516237882150066,
         -2.068507969639477
        ],
        [
         -3.3853945991702,
         -2.023303441240364,
         -2.0685079696394815
        ],
        [
         -3.1260446314109154,
         -0.46877003382869414,
         -3.04254140250831
        ],
        [
         -3.829957911075632,
         0.9413159973223673,
         -2.0685079696394877
        ],
        [
         -2.9704203860428184,
         2.5944664456506263,
         -2.0685079696394886
        ],
        [
         -1.41182771159722,
         2.8281872100260417,
         -3.0425414025083
        ],
        [
         -0.2882773691168278,
         3.933389068714253,
         -2.068507969639472
        ],
        [
         -0.18373915870081717,
         4.527989054990633,
         1.0924887690789398
        ],
        [
         1.6437244634442605,
         4.223104882527863,
         1.0924887690789513
        ],
        [
         2.512837087144112,
         3.7712192635842032,
         -0.492488769078897
        ],
        [
         3.812079793830396,
         2.450406620547944,
         -0.4924887690788985
        ],
        [
         4.249594973891263,
         1.5739718925168635,
         1.0924887690789273
        ],
        [
         4.524350210800109,
         -0.2582636842235013,
         1.0924887690789284
        ],
        [
         4.363152019032783,
         -1.2244792441548742,
         -0.49248876907891814
        ],
        [
         3.5084726242518545,
         -2.8682860396812946,
         -0.49248876907891737
        ],
        [
         2.8101332909863537,
         -3.555220928078232,
         1.0924887690789082
        ],
        [
         1.152477743837965,
         -4.38272061743776,
         1.0924887690789016
        ],
        [
         0.18373915870083218,
         -4.527989054990717,
         -0.4924887690789393
        ],
        [
         -1.6437244634442276,
         -4.223104882527806,
         -0.49248876907892264
        ],
        [
         -2.5128370871441157,
         -3.771219263584151,
         1.092488769078909
        ],
        [
         -3.812079793830455,
         -2.4504066205479424,
         1.092488769078919
        ],
        [
         -4.249594973891341,
         -1.5739718925169,
         -0.492488769078925
        ],
        [
         -4.524350210800058,
         0.25826368422347995,
         -0.49248876907891564
        ],
        [
         -4.363152019032654,
         1.224479244154855,
         1.0924887690789176
        ],
        [
         -3.508472624251822,
         2.868286039681324,
         1.0924887690789444
        ],
        [
         -2.810133290986377,
         3.5552209280782177,
         -0.49248876907891964
        ],
        [
         -1.152477743837949,
         4.38272061743765,
         -0.4924887690788948
        ],
        [
         -0.8781314584252924,
         3.844936741891803,
         2.668507969639512
        ],
        [
         0.5201741209638863,
         3.117903023839612,
         3.6425414025083276
        ],
        [
         2.078766795409472,
         3.3516237882150484,
         2.6685079696395033
        ],
        [
         3.3853945991701666,
         2.023303441240358,
         2.6685079696394958
        ],
        [
         3.1260446314109323,
         0.4687700338286734,
         3.642541402508316
        ],
        [
         3.829957911075651,
         -0.9413159973223888,
         2.668507969639494
        ],
        [
         2.9704203860428158,
         -2.5944664456506406,
         2.668507969639474
        ],
        [
         1.4118277115972309,
         -2.828187210026086,
         3.642541402508295
        ],
        [
         0.28827736911683444,
         -3.9333890687142836,
         2.66850796963946
        ],
        [
         -1.54957383972013,
         -3.6267718873235872,
         2.6685079696394673
        ],
        [
         -2.2534871193848685,
         -2.2166858561725524,
         3.6425414025083125
        ],
        [
         -3.651792698774044,
         -1.4896521381203571,
         2.668507969639495
        ],
        [
         -3.928109687067509,
         0.35299814984203637,
         2.6685079696394842
        ],
        [
         -2.8045593445871395,
         1.4582000085302564,
         3.642541402508323
        ],
        [
         -2.545209376827864,
         3.012733415941944,
         2.6685079696395198
        ],
        [
         0.2593499677592776,
         1.5545334074116215,
         4.622111392494922
        ],
        [
         1.5585926744455638,
         0.23372076437537326,
         4.622111392494912
        ],
        [
         0.7039132796646946,
         -1.4100860311510717,
         4.622111392494904
        ],
        [
         -1.1235503424803677,
         -1.1052018586882226,
         4.622111392494914
        ],
        [
         -1.3983055793891292,
         0.7270337180521484,
         4.622111392494919
        ]
       ],
       "tabbable": null,
       "tooltip": null
      }
     },
     "77d31374b6424b8e8f75c2044a5eaa6e": {
      "model_module": "evince",
      "model_module_version": "^0.33.0",
      "model_name": "SpotlightModel",
      "state": {
       "_model_module_version": "^0.33.0",
       "_view_module_version": "^0.33.0",
       "additive": false,
       "aperture": 0.001,
       "bg_color": [
        0,
        0.05,
        0
       ],
       "bonds": [
        [
         0,
         1
        ],
        [
         0,
         4
        ],
        [
         0,
         6
        ],
        [
         1,
         2
        ],
        [
         1,
         9
        ],
        [
         2,
         3
        ],
        [
         2,
         12
        ],
        [
         3,
         4
        ],
        [
         3,
         15
        ],
        [
         4,
         18
        ],
        [
         5,
         6
        ],
        [
         5,
         19
        ],
        [
         5,
         22
        ],
        [
         6,
         7
        ],
        [
         7,
         8
        ],
        [
         7,
         23
        ],
        [
         8,
         9
        ],
        [
         8,
         26
        ],
        [
         9,
         10
        ],
        [
         10,
         11
        ],
        [
         10,
         27
        ],
        [
         11,
         12
        ],
        [
         11,
         30
        ],
        [
         12,
         13
        ],
        [
         13,
         14
        ],
        [
         13,
         31
        ],
        [
         14,
         15
        ],
        [
         14,
         34
        ],
        [
         15,
         16
        ],
        [
         16,
         17
        ],
        [
         16,
         35
        ],
        [
         17,
         18
        ],
        [
         17,
         38
        ],
        [
         18,
         19
        ],
        [
         19,
         39
        ],
        [
         20,
         21
        ],
        [
         20,
         39
        ],
        [
         20,
         40
        ],
        [
         21,
         22
        ],
        [
         21,
         42
        ],
        [
         22,
         23
        ],
        [
         23,
         24
        ],
        [
         24,
         25
        ],
        [
         24,
         43
        ],
        [
         25,
         26
        ],
        [
         25,
         45
        ],
        [
         26,
         27
        ],
        [
         27,
         28
        ],
        [
         28,
         29
        ],
        [
         28,
         46
        ],
        [
         29,
         30
        ],
        [
         29,
         48
        ],
        [
         30,
         31
        ],
        [
         31,
         32
        ],
        [
         32,
         33
        ],
        [
         32,
         49
        ],
        [
         33,
         34
        ],
        [
         33,
         51
        ],
        [
         34,
         35
        ],
        [
         35,
         36
        ],
        [
         36,
         37
        ],
        [
         36,
         52
        ],
        [
         37,
         38
        ],
        [
         37,
         54
        ],
        [
         38,
         39
        ],
        [
         40,
         41
        ],
        [
         40,
         54
        ],
        [
         41,
         42
        ],
        [
         41,
         55
        ],
        [
         42,
         43
        ],
        [
         43,
         44
        ],
        [
         44,
         45
        ],
        [
         44,
         56
        ],
        [
         45,
         46
        ],
        [
         46,
         47
        ],
        [
         47,
         48
        ],
        [
         47,
         57
        ],
        [
         48,
         49
        ],
        [
         49,
         50
        ],
        [
         50,
         51
        ],
        [
         50,
         58
        ],
        [
         51,
         52
        ],
        [
         52,
         53
        ],
        [
         53,
         54
        ],
        [
         53,
         59
        ],
        [
         55,
         56
        ],
        [
         55,
         59
        ],
        [
         56,
         57
        ],
        [
         57,
         58
        ],
        [
         58,
         59
        ]
       ],
       "box": [
        20,
        20,
        20
       ],
       "colors": [
        [
         1,
         1,
         1
        ],
        [
         1,
         1,
         1
        ],
        [
         1,
         1,
         1
        ],
        [
         1,
         1,
         1
        ],
        [
         1,
         1,
         1
        ],
        [
         1,
         1,
         1
        ],
        [
         1,
         1,
         1
        ],
        [
         1,
         1,
         1
        ],
        [
         1,
         1,
         1
        ],
        [
         1,
         1,
         1
        ],
        [
         1,
         1,
         1
        ],
        [
         1,
         1,
         1
        ],
        [
         1,
         1,
         1
        ],
        [
         1,
         1,
         1
        ],
        [
         1,
         1,
         1
        ],
        [
         1,
         1,
         1
        ],
        [
         1,
         1,
         1
        ],
        [
         1,
         1,
         1
        ],
        [
         1,
         1,
         1
        ],
        [
         1,
         1,
         1
        ],
        [
         1,
         1,
         1
        ],
        [
         1,
         1,
         1
        ],
        [
         1,
         1,
         1
        ],
        [
         1,
         1,
         1
        ],
        [
         1,
         1,
         1
        ],
        [
         1,
         1,
         1
        ],
        [
         1,
         1,
         1
        ],
        [
         1,
         1,
         1
        ],
        [
         1,
         1,
         1
        ],
        [
         1,
         1,
         1
        ],
        [
         1,
         1,
         1
        ],
        [
         1,
         1,
         1
        ],
        [
         1,
         1,
         1
        ],
        [
         1,
         1,
         1
        ],
        [
         1,
         1,
         1
        ],
        [
         1,
         1,
         1
        ],
        [
         1,
         1,
         1
        ],
        [
         1,
         1,
         1
        ],
        [
         1,
         1,
         1
        ],
        [
         1,
         1,
         1
        ],
        [
         1,
         1,
         1
        ],
        [
         1,
         1,
         1
        ],
        [
         1,
         1,
         1
        ],
        [
         1,
         1,
         1
        ],
        [
         1,
         1,
         1
        ],
        [
         1,
         1,
         1
        ],
        [
         1,
         1,
         1
        ],
        [
         1,
         1,
         1
        ],
        [
         1,
         1,
         1
        ],
        [
         1,
         1,
         1
        ],
        [
         1,
         1,
         1
        ],
        [
         1,
         1,
         1
        ],
        [
         1,
         1,
         1
        ],
        [
         1,
         1,
         1
        ],
        [
         1,
         1,
         1
        ],
        [
         1,
         1,
         1
        ],
        [
         1,
         1,
         1
        ],
        [
         1,
         1,
         1
        ],
        [
         1,
         1,
         1
        ],
        [
         1,
         1,
         1
        ]
       ],
       "dof": true,
       "focus": 8,
       "fxaa": true,
       "init": true,
       "layout": "IPY_MODEL_fae1492402f1479ab8de7005819f0fa7",
       "masses": [
        1,
        1,
        1,
        1,
        1,
        1,
        1,
        1,
        1,
        1,
        1,
        1,
        1,
        1,
        1,
        1,
        1,
        1,
        1,
        1,
        1,
        1,
        1,
        1,
        1,
        1,
        1,
        1,
        1,
        1,
        1,
        1,
        1,
        1,
        1,
        1,
        1,
        1,
        1,
        1,
        1,
        1,
        1,
        1,
        1,
        1,
        1,
        1,
        1,
        1,
        1,
        1,
        1,
        1,
        1,
        1,
        1,
        1,
        1,
        1
       ],
       "max_blur": 0.01,
       "pos": [
        [
         4.494201369921512,
         4.420807434752767,
         -16.088445569979758
        ],
        [
         5.593222317556647,
         -2.908134872208701,
         -16.08844556997979
        ],
        [
         -1.0373998710370058,
         -6.218133629646545,
         -16.088445569979758
        ],
        [
         -6.234370697782218,
         -0.934883057501621,
         -16.0884455699797
        ],
        [
         -2.81565311865874,
         5.640344124604147,
         -16.088445569979708
        ],
        [
         6.198295358880563,
         14.507087549294402,
         -8.274031878557844
        ],
        [
         9.013948477539342,
         8.866743424690089,
         -12.170165610033115
        ],
        [
         14.607170795096035,
         5.958608552481305,
         -8.274031878557816
        ],
        [
         15.712438748270214,
         -1.411992599368231,
         -8.274031878557869
        ],
        [
         11.218237378348627,
         -5.832800034121028,
         -12.170165610033232
        ],
        [
         10.180837507311482,
         -12.050933663767706,
         -8.274031878557896
        ],
        [
         3.5125258337012344,
         -15.37974696756727,
         -8.274031878557963
        ],
        [
         -2.080696483855451,
         -12.471612095358418,
         -12.170165610033242
        ],
        [
         -8.315067181637819,
         -13.406495152860026,
         -8.274031878557908
        ],
        [
         -13.5415783966808,
         -8.093213764961456,
         -8.274031878557926
        ],
        [
         -12.504178525643662,
         -1.8750801353147766,
         -12.17016561003324
        ],
        [
         -15.319831644302528,
         3.765263989289469,
         -8.27403187855795
        ],
        [
         -11.881681544171274,
         10.377865782602505,
         -8.274031878557954
        ],
        [
         -5.64731084638888,
         11.312748840104167,
         -12.1701656100332
        ],
        [
         -1.153109476467311,
         15.733556274857012,
         -8.274031878557889
        ],
        [
         -0.7349566348032687,
         18.111956219962533,
         4.369955076315759
        ],
        [
         6.574897853777042,
         16.892419530111454,
         4.369955076315805
        ],
        [
         10.051348348576449,
         15.084877054336813,
         -1.969955076315588
        ],
        [
         15.248319175321583,
         9.801626482191775,
         -1.969955076315594
        ],
        [
         16.99837989556505,
         6.295887570067454,
         4.369955076315709
        ],
        [
         18.097400843200436,
         -1.0330547368940053,
         4.369955076315714
        ],
        [
         17.45260807613113,
         -4.897916976619497,
         -1.9699550763156726
        ],
        [
         14.033890497007418,
         -11.473144158725178,
         -1.9699550763156695
        ],
        [
         11.240533163945415,
         -14.220883712312927,
         4.369955076315633
        ],
        [
         4.60991097535186,
         -17.53088246975104,
         4.369955076315606
        ],
        [
         0.7349566348033287,
         -18.111956219962867,
         -1.9699550763157572
        ],
        [
         -6.5748978537769105,
         -16.892419530111223,
         -1.9699550763156906
        ],
        [
         -10.051348348576463,
         -15.084877054336603,
         4.369955076315636
        ],
        [
         -15.24831917532182,
         -9.80162648219177,
         4.369955076315676
        ],
        [
         -16.998379895565364,
         -6.2958875700676,
         -1.9699550763157
        ],
        [
         -18.097400843200234,
         1.0330547368939198,
         -1.9699550763156626
        ],
        [
         -17.452608076130616,
         4.89791697661942,
         4.36995507631567
        ],
        [
         -14.033890497007288,
         11.473144158725296,
         4.369955076315778
        ],
        [
         -11.240533163945509,
         14.22088371231287,
         -1.9699550763156786
        ],
        [
         -4.609910975351796,
         17.5308824697506,
         -1.969955076315579
        ],
        [
         -3.5125258337011696,
         15.379746967567211,
         10.674031878558049
        ],
        [
         2.080696483855545,
         12.471612095358449,
         14.57016561003331
        ],
        [
         8.315067181637888,
         13.406495152860193,
         10.674031878558013
        ],
        [
         13.541578396680666,
         8.093213764961432,
         10.674031878557983
        ],
        [
         12.504178525643729,
         1.8750801353146935,
         14.570165610033264
        ],
        [
         15.319831644302605,
         -3.765263989289555,
         10.674031878557976
        ],
        [
         11.881681544171263,
         -10.377865782602562,
         10.674031878557896
        ],
        [
         5.6473108463889234,
         -11.312748840104344,
         14.57016561003318
        ],
        [
         1.1531094764673377,
         -15.733556274857134,
         10.67403187855784
        ],
        [
         -6.19829535888052,
         -14.507087549294349,
         10.67403187855787
        ],
        [
         -9.013948477539474,
         -8.86674342469021,
         14.57016561003325
        ],
        [
         -14.607170795096176,
         -5.9586085524814285,
         10.67403187855798
        ],
        [
         -15.712438748270037,
         1.4119925993681455,
         10.674031878557937
        ],
        [
         -11.218237378348558,
         5.832800034121026,
         14.570165610033293
        ],
        [
         -10.180837507311455,
         12.050933663767776,
         10.674031878558079
        ],
        [
         1.0373998710371104,
         6.218133629646486,
         18.48844556997969
        ],
        [
         6.234370697782255,
         0.934883057501493,
         18.48844556997965
        ],
        [
         2.8156531186587785,
         -5.640344124604287,
         18.488445569979618
        ],
        [
         -4.494201369921471,
         -4.4208074347528905,
         18.488445569979657
        ],
        [
         -5.593222317556517,
         2.908134872208594,
         18.488445569979675
        ]
       ],
       "radius": [
        1,
        1,
        1,
        1,
        1,
        1,
        1,
        1,
        1,
        1,
        1,
        1,
        1,
        1,
        1,
        1,
        1,
        1,
        1,
        1,
        1,
        1,
        1,
        1,
        1,
        1,
        1,
        1,
        1,
        1,
        1,
        1,
        1,
        1,
        1,
        1,
        1,
        1,
        1,
        1,
        1,
        1,
        1,
        1,
        1,
        1,
        1,
        1,
        1,
        1,
        1,
        1,
        1,
        1,
        1,
        1,
        1,
        1,
        1,
        1
       ],
       "sao": true,
       "saoBias": 0.1,
       "saoBlur": false,
       "saoBlurDepthCutoff": 0.05,
       "saoBlurRadius": 50,
       "saoBlurStdDev": 1,
       "saoIntensity": 1.5,
       "saoKernelRadius": 1,
       "saoMinResolution": 100,
       "saoScale": 360,
       "tabbable": null,
       "tooltip": null,
       "window_scale_height": 1,
       "window_scale_width": 1
      }
     },
     "8e3f2514e0c44b7fae4a899c8dc4575f": {
      "model_module": "evince",
      "model_module_version": "^0.33.0",
      "model_name": "MDModel",
      "state": {
       "_model_module_version": "^0.33.0",
       "_view_module_version": "^0.33.0",
       "additive": false,
       "bg_color": [
        1,
        1,
        1
       ],
       "box": [
        20,
        20,
        20
       ],
       "colors": [
        [
         0.8788274503791459,
         0.9379008853255043,
         0.7776220964623264
        ],
        [
         0.8788274503791459,
         0.9379008853255043,
         0.7776220964623264
        ],
        [
         0.8788274503791459,
         0.9379008853255043,
         0.7776220964623264
        ],
        [
         0.8788274503791459,
         0.9379008853255043,
         0.7776220964623264
        ],
        [
         0.8788274503791459,
         0.9379008853255043,
         0.7776220964623264
        ],
        [
         0.8788274503791459,
         0.9379008853255043,
         0.7776220964623264
        ],
        [
         0.8788274503791459,
         0.9379008853255043,
         0.7776220964623264
        ],
        [
         0.8788274503791459,
         0.9379008853255043,
         0.7776220964623264
        ],
        [
         0.8788274503791459,
         0.9379008853255043,
         0.7776220964623264
        ],
        [
         0.8788274503791459,
         0.9379008853255043,
         0.7776220964623264
        ],
        [
         0.8788274503791459,
         0.9379008853255043,
         0.7776220964623264
        ],
        [
         0.8788274503791459,
         0.9379008853255043,
         0.7776220964623264
        ],
        [
         0.8788274503791459,
         0.9379008853255043,
         0.7776220964623264
        ],
        [
         0.8788274503791459,
         0.9379008853255043,
         0.7776220964623264
        ],
        [
         0.8788274503791459,
         0.9379008853255043,
         0.7776220964623264
        ],
        [
         0.8788274503791459,
         0.9379008853255043,
         0.7776220964623264
        ],
        [
         0.8788274503791459,
         0.9379008853255043,
         0.7776220964623264
        ],
        [
         0.8788274503791459,
         0.9379008853255043,
         0.7776220964623264
        ],
        [
         0.8788274503791459,
         0.9379008853255043,
         0.7776220964623264
        ],
        [
         0.8788274503791459,
         0.9379008853255043,
         0.7776220964623264
        ],
        [
         0.8788274503791459,
         0.9379008853255043,
         0.7776220964623264
        ],
        [
         0.8788274503791459,
         0.9379008853255043,
         0.7776220964623264
        ],
        [
         0.8788274503791459,
         0.9379008853255043,
         0.7776220964623264
        ],
        [
         0.8788274503791459,
         0.9379008853255043,
         0.7776220964623264
        ],
        [
         0.8788274503791459,
         0.9379008853255043,
         0.7776220964623264
        ],
        [
         0.8788274503791459,
         0.9379008853255043,
         0.7776220964623264
        ],
        [
         0.8788274503791459,
         0.9379008853255043,
         0.7776220964623264
        ],
        [
         0.8788274503791459,
         0.9379008853255043,
         0.7776220964623264
        ],
        [
         0.8788274503791459,
         0.9379008853255043,
         0.7776220964623264
        ],
        [
         0.8788274503791459,
         0.9379008853255043,
         0.7776220964623264
        ],
        [
         0.8788274503791459,
         0.9379008853255043,
         0.7776220964623264
        ],
        [
         0.8788274503791459,
         0.9379008853255043,
         0.7776220964623264
        ],
        [
         0.8788274503791459,
         0.9379008853255043,
         0.7776220964623264
        ],
        [
         0.8788274503791459,
         0.9379008853255043,
         0.7776220964623264
        ],
        [
         0.8788274503791459,
         0.9379008853255043,
         0.7776220964623264
        ],
        [
         0.8788274503791459,
         0.9379008853255043,
         0.7776220964623264
        ],
        [
         0.8788274503791459,
         0.9379008853255043,
         0.7776220964623264
        ],
        [
         0.8788274503791459,
         0.9379008853255043,
         0.7776220964623264
        ],
        [
         0.8788274503791459,
         0.9379008853255043,
         0.7776220964623264
        ],
        [
         0.8788274503791459,
         0.9379008853255043,
         0.7776220964623264
        ],
        [
         0.8788274503791459,
         0.9379008853255043,
         0.7776220964623264
        ],
        [
         0.8788274503791459,
         0.9379008853255043,
         0.7776220964623264
        ],
        [
         0.8788274503791459,
         0.9379008853255043,
         0.7776220964623264
        ],
        [
         0.8788274503791459,
         0.9379008853255043,
         0.7776220964623264
        ],
        [
         0.8788274503791459,
         0.9379008853255043,
         0.7776220964623264
        ],
        [
         0.8788274503791459,
         0.9379008853255043,
         0.7776220964623264
        ],
        [
         0.8788274503791459,
         0.9379008853255043,
         0.7776220964623264
        ],
        [
         0.8788274503791459,
         0.9379008853255043,
         0.7776220964623264
        ],
        [
         0.8788274503791459,
         0.9379008853255043,
         0.7776220964623264
        ],
        [
         0.8788274503791459,
         0.9379008853255043,
         0.7776220964623264
        ],
        [
         0.8788274503791459,
         0.9379008853255043,
         0.7776220964623264
        ],
        [
         0.8788274503791459,
         0.9379008853255043,
         0.7776220964623264
        ],
        [
         0.8788274503791459,
         0.9379008853255043,
         0.7776220964623264
        ],
        [
         0.8788274503791459,
         0.9379008853255043,
         0.7776220964623264
        ],
        [
         0.8788274503791459,
         0.9379008853255043,
         0.7776220964623264
        ],
        [
         0.8788274503791459,
         0.9379008853255043,
         0.7776220964623264
        ],
        [
         0.8788274503791459,
         0.9379008853255043,
         0.7776220964623264
        ],
        [
         0.8788274503791459,
         0.9379008853255043,
         0.7776220964623264
        ],
        [
         0.8788274503791459,
         0.9379008853255043,
         0.7776220964623264
        ],
        [
         0.8788274503791459,
         0.9379008853255043,
         0.7776220964623264
        ]
       ],
       "init": true,
       "layout": "IPY_MODEL_e7b98cdf6d0f4e299e6e2b978f401793",
       "masses": [
        1,
        1,
        1,
        1,
        1,
        1,
        1,
        1,
        1,
        1,
        1,
        1,
        1,
        1,
        1,
        1,
        1,
        1,
        1,
        1,
        1,
        1,
        1,
        1,
        1,
        1,
        1,
        1,
        1,
        1,
        1,
        1,
        1,
        1,
        1,
        1,
        1,
        1,
        1,
        1,
        1,
        1,
        1,
        1,
        1,
        1,
        1,
        1,
        1,
        1,
        1,
        1,
        1,
        1,
        1,
        1,
        1,
        1,
        1,
        1
       ],
       "pos": [
        [
         1.123550342480378,
         1.1052018586881918,
         -4.022111392494939
        ],
        [
         1.3983055793891617,
         -0.7270337180521752,
         -4.022111392494947
        ],
        [
         -0.25934996775925145,
         -1.5545334074116361,
         -4.022111392494939
        ],
        [
         -1.5585926744455545,
         -0.23372076437540526,
         -4.022111392494925
        ],
        [
         -0.703913279664685,
         1.4100860311510368,
         -4.022111392494927
        ],
        [
         1.5495738397201408,
         3.6267718873236006,
         -2.068507969639461
        ],
        [
         2.2534871193848356,
         2.2166858561725222,
         -3.0425414025082786
        ],
        [
         3.651792698774009,
         1.4896521381203263,
         -2.068507969639454
        ],
        [
         3.9281096870675536,
         -0.35299814984205774,
         -2.0685079696394673
        ],
        [
         2.804559344587157,
         -1.458200008530257,
         -3.042541402508308
        ],
        [
         2.5452093768278705,
         -3.0127334159419266,
         -2.068507969639474
        ],
        [
         0.8781314584253086,
         -3.8449367418918174,
         -2.068507969639491
        ],
        [
         -0.5201741209638627,
         -3.1179030238396046,
         -3.0425414025083106
        ],
        [
         -2.0787667954094546,
         -3.3516237882150066,
         -2.068507969639477
        ],
        [
         -3.3853945991702,
         -2.023303441240364,
         -2.0685079696394815
        ],
        [
         -3.1260446314109154,
         -0.46877003382869414,
         -3.04254140250831
        ],
        [
         -3.829957911075632,
         0.9413159973223673,
         -2.0685079696394877
        ],
        [
         -2.9704203860428184,
         2.5944664456506263,
         -2.0685079696394886
        ],
        [
         -1.41182771159722,
         2.8281872100260417,
         -3.0425414025083
        ],
        [
         -0.2882773691168278,
         3.933389068714253,
         -2.068507969639472
        ],
        [
         -0.18373915870081717,
         4.527989054990633,
         1.0924887690789398
        ],
        [
         1.6437244634442605,
         4.223104882527863,
         1.0924887690789513
        ],
        [
         2.512837087144112,
         3.7712192635842032,
         -0.492488769078897
        ],
        [
         3.812079793830396,
         2.450406620547944,
         -0.4924887690788985
        ],
        [
         4.249594973891263,
         1.5739718925168635,
         1.0924887690789273
        ],
        [
         4.524350210800109,
         -0.2582636842235013,
         1.0924887690789284
        ],
        [
         4.363152019032783,
         -1.2244792441548742,
         -0.49248876907891814
        ],
        [
         3.5084726242518545,
         -2.8682860396812946,
         -0.49248876907891737
        ],
        [
         2.8101332909863537,
         -3.555220928078232,
         1.0924887690789082
        ],
        [
         1.152477743837965,
         -4.38272061743776,
         1.0924887690789016
        ],
        [
         0.18373915870083218,
         -4.527989054990717,
         -0.4924887690789393
        ],
        [
         -1.6437244634442276,
         -4.223104882527806,
         -0.49248876907892264
        ],
        [
         -2.5128370871441157,
         -3.771219263584151,
         1.092488769078909
        ],
        [
         -3.812079793830455,
         -2.4504066205479424,
         1.092488769078919
        ],
        [
         -4.249594973891341,
         -1.5739718925169,
         -0.492488769078925
        ],
        [
         -4.524350210800058,
         0.25826368422347995,
         -0.49248876907891564
        ],
        [
         -4.363152019032654,
         1.224479244154855,
         1.0924887690789176
        ],
        [
         -3.508472624251822,
         2.868286039681324,
         1.0924887690789444
        ],
        [
         -2.810133290986377,
         3.5552209280782177,
         -0.49248876907891964
        ],
        [
         -1.152477743837949,
         4.38272061743765,
         -0.4924887690788948
        ],
        [
         -0.8781314584252924,
         3.844936741891803,
         2.668507969639512
        ],
        [
         0.5201741209638863,
         3.117903023839612,
         3.6425414025083276
        ],
        [
         2.078766795409472,
         3.3516237882150484,
         2.6685079696395033
        ],
        [
         3.3853945991701666,
         2.023303441240358,
         2.6685079696394958
        ],
        [
         3.1260446314109323,
         0.4687700338286734,
         3.642541402508316
        ],
        [
         3.829957911075651,
         -0.9413159973223888,
         2.668507969639494
        ],
        [
         2.9704203860428158,
         -2.5944664456506406,
         2.668507969639474
        ],
        [
         1.4118277115972309,
         -2.828187210026086,
         3.642541402508295
        ],
        [
         0.28827736911683444,
         -3.9333890687142836,
         2.66850796963946
        ],
        [
         -1.54957383972013,
         -3.6267718873235872,
         2.6685079696394673
        ],
        [
         -2.2534871193848685,
         -2.2166858561725524,
         3.6425414025083125
        ],
        [
         -3.651792698774044,
         -1.4896521381203571,
         2.668507969639495
        ],
        [
         -3.928109687067509,
         0.35299814984203637,
         2.6685079696394842
        ],
        [
         -2.8045593445871395,
         1.4582000085302564,
         3.642541402508323
        ],
        [
         -2.545209376827864,
         3.012733415941944,
         2.6685079696395198
        ],
        [
         0.2593499677592776,
         1.5545334074116215,
         4.622111392494922
        ],
        [
         1.5585926744455638,
         0.23372076437537326,
         4.622111392494912
        ],
        [
         0.7039132796646946,
         -1.4100860311510717,
         4.622111392494904
        ],
        [
         -1.1235503424803677,
         -1.1052018586882226,
         4.622111392494914
        ],
        [
         -1.3983055793891292,
         0.7270337180521484,
         4.622111392494919
        ]
       ],
       "tabbable": null,
       "tooltip": null
      }
     },
     "c1e9e36f89004bb396c2ccd3f1b9d294": {
      "model_module": "@jupyter-widgets/base",
      "model_module_version": "2.0.0",
      "model_name": "LayoutModel",
      "state": {
       "_model_module_version": "2.0.0",
       "_view_module_version": "2.0.0",
       "border_bottom": null,
       "border_left": null,
       "border_right": null,
       "border_top": null
      }
     },
     "e7b98cdf6d0f4e299e6e2b978f401793": {
      "model_module": "@jupyter-widgets/base",
      "model_module_version": "2.0.0",
      "model_name": "LayoutModel",
      "state": {
       "_model_module_version": "2.0.0",
       "_view_module_version": "2.0.0",
       "border_bottom": null,
       "border_left": null,
       "border_right": null,
       "border_top": null
      }
     },
     "fae1492402f1479ab8de7005819f0fa7": {
      "model_module": "@jupyter-widgets/base",
      "model_module_version": "2.0.0",
      "model_name": "LayoutModel",
      "state": {
       "_model_module_version": "2.0.0",
       "_view_module_version": "2.0.0",
       "border_bottom": null,
       "border_left": null,
       "border_right": null,
       "border_top": null
      }
     }
    },
    "version_major": 2,
    "version_minor": 0
   }
  }
 },
 "nbformat": 4,
 "nbformat_minor": 5
}
