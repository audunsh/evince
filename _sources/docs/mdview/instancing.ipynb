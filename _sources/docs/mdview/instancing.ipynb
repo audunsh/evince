{
 "cells": [
  {
   "cell_type": "markdown",
   "id": "d3832fa2",
   "metadata": {},
   "source": [
    "# Instancing example"
   ]
  },
  {
   "cell_type": "markdown",
   "id": "39cede16",
   "metadata": {},
   "source": [
    "Let's make a mock-class containing the position and masses of 100 000 particles to push the performance of the current MDView implementation.  This example should be able to deal with 1 000 000 bubbles, depending on you setup. \n",
    "\n",
    "Keep in mind, however, that the planned upgrade to WebGPU will significantly boost this ability.\n"
   ]
  },
  {
   "cell_type": "code",
   "execution_count": null,
   "id": "f42069e3",
   "metadata": {},
   "outputs": [],
   "source": [
    "import bubblebox as bb\n",
    "import evince as ev\n",
    "import numpy as np\n",
    "\n",
    "b = bb.mdbox(100,size=(100,100,100))\n",
    "\n",
    "\n",
    "n_bubbles = 100000\n",
    "b.pos = np.random.multivariate_normal(np.zeros(3), 1250*np.eye(3), n_bubbles).T\n",
    "b.masses = 10 - 10*np.exp(-.01*np.sum(b.pos**2, axis = 0)**.5)\n",
    "\n",
    "\n",
    "ev.MDView(b)"
   ]
  },
  {
   "cell_type": "code",
   "execution_count": null,
   "id": "4da88dc0",
   "metadata": {},
   "outputs": [],
   "source": []
  }
 ],
 "metadata": {
  "kernelspec": {
   "display_name": "Python 3 (ipykernel)",
   "language": "python",
   "name": "python3"
  },
  "language_info": {
   "codemirror_mode": {
    "name": "ipython",
    "version": 3
   },
   "file_extension": ".py",
   "mimetype": "text/x-python",
   "name": "python",
   "nbconvert_exporter": "python",
   "pygments_lexer": "ipython3",
   "version": "3.10.6"
  }
 },
 "nbformat": 4,
 "nbformat_minor": 5
}
